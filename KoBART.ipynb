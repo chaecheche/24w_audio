{
  "metadata": {
    "kernelspec": {
      "language": "python",
      "display_name": "Python 3",
      "name": "python3"
    },
    "language_info": {
      "name": "python",
      "version": "3.10.13",
      "mimetype": "text/x-python",
      "codemirror_mode": {
        "name": "ipython",
        "version": 3
      },
      "pygments_lexer": "ipython3",
      "nbconvert_exporter": "python",
      "file_extension": ".py"
    },
    "kaggle": {
      "accelerator": "nvidiaTeslaT4",
      "dataSources": [
        {
          "sourceId": 7883354,
          "sourceType": "datasetVersion",
          "datasetId": 4627269
        },
        {
          "sourceId": 7884409,
          "sourceType": "datasetVersion",
          "datasetId": 4628075
        }
      ],
      "dockerImageVersionId": 30665,
      "isInternetEnabled": true,
      "language": "python",
      "sourceType": "notebook",
      "isGpuEnabled": true
    },
    "colab": {
      "provenance": [],
      "include_colab_link": true
    }
  },
  "nbformat_minor": 0,
  "nbformat": 4,
  "cells": [
    {
      "cell_type": "markdown",
      "metadata": {
        "id": "view-in-github",
        "colab_type": "text"
      },
      "source": [
        "<a href=\"https://colab.research.google.com/github/chechae/24w_audio/blob/main/KoBART.ipynb\" target=\"_parent\"><img src=\"https://colab.research.google.com/assets/colab-badge.svg\" alt=\"Open In Colab\"/></a>"
      ]
    },
    {
      "cell_type": "code",
      "source": [
        "import json\n",
        "import pandas as pd\n",
        "import glob\n",
        "from collections import defaultdict\n",
        "from transformers import AutoModelForSeq2SeqLM,AutoTokenizer\n",
        "from tokenizers import Tokenizer\n",
        "from transformers import pipeline\n",
        "import warnings\n",
        "import os\n",
        "from torch.utils.data import Dataset"
      ],
      "metadata": {
        "execution": {
          "iopub.status.busy": "2024-03-22T06:36:55.328198Z",
          "iopub.execute_input": "2024-03-22T06:36:55.329078Z",
          "iopub.status.idle": "2024-03-22T06:36:55.335624Z",
          "shell.execute_reply.started": "2024-03-22T06:36:55.329045Z",
          "shell.execute_reply": "2024-03-22T06:36:55.334438Z"
        },
        "trusted": true,
        "id": "hqq3vYAd8TH2"
      },
      "execution_count": null,
      "outputs": []
    },
    {
      "cell_type": "code",
      "source": [
        "from google.colab import drive, output\n",
        "drive.mount(\"/content/gdrive\")"
      ],
      "metadata": {
        "colab": {
          "base_uri": "https://localhost:8080/"
        },
        "id": "ZRnPWOmJDPZE",
        "outputId": "39b5f99d-0765-4ef4-c9d3-4be32ecbdeaa"
      },
      "execution_count": null,
      "outputs": [
        {
          "output_type": "stream",
          "name": "stdout",
          "text": [
            "Mounted at /content/gdrive\n"
          ]
        }
      ]
    },
    {
      "cell_type": "code",
      "source": [
        "class TextStyleTransferDataset(Dataset):\n",
        "    def __init__(self, df,tokenizer):\n",
        "      self.df = df\n",
        "      self.tokenizer = tokenizer\n",
        "\n",
        "    def __len__(self):\n",
        "        return len(self.df)\n",
        "\n",
        "    def __getitem__(self, index):\n",
        "        row=self.df.iloc[index]\n",
        "        text1=row[0]\n",
        "        text2=row[1]\n",
        "        target_style_name = '표준어'\n",
        "\n",
        "        # Tokenizer를 허깅페이스의 레포지토리에서 가져왔기 때문에\n",
        "        # 테스트 코드를 참고해서 모델 입력 형식을 만들었다.\n",
        "        encoder_text = f\"{target_style_name} 말투로 변환:{text1}\"\n",
        "        decoder_text = f\"{text2}{self.tokenizer.eos_token}\"\n",
        "        model_inputs = self.tokenizer(encoder_text, max_length=64, truncation=True)\n",
        "\n",
        "        with self.tokenizer.as_target_tokenizer():\n",
        "          labels = tokenizer(decoder_text, max_length=64, truncation=True)\n",
        "        model_inputs['labels'] = labels['input_ids']\n",
        "        del model_inputs['token_type_ids']\n",
        "\n",
        "        return model_inputs\n",
        "# 지난번에 만들어뒀던 데이터셋을 불러와서 데이터프레임을 만들어준다\n",
        "def make_df(data_root):\n",
        "    df = pd.read_csv(f'{data_root}/data.tsv',sep='\\t')\n",
        "    # 주로 쓰이는 방법 같지는 않지만,, Train Data와 Test Data를 8:2 비율로 나눠준다\n",
        "    rate=int(len(df)*0.2)\n",
        "    df_train,df_test = df[rate:],df[:rate]\n",
        "\n",
        "    print(f'Train DataFrame length : {len(df_train)},Test DataFrame length : {len(df_test)}')\n",
        "    return df_train,df_test"
      ],
      "metadata": {
        "id": "vTQKzC87LvRj"
      },
      "execution_count": null,
      "outputs": []
    },
    {
      "cell_type": "code",
      "source": [
        "# 위 함수와 클래스를 종합해서 Dataset들을 반환해준다\n",
        "def make_dataset(data_root,tokenizer):\n",
        "    df_train,df_test = make_df(data_root)\n",
        "\n",
        "    train_dataset = TextStyleTransferDataset(df_train,tokenizer)\n",
        "    test_dataset = TextStyleTransferDataset(df_test,tokenizer)\n",
        "\n",
        "    return train_dataset,test_dataset"
      ],
      "metadata": {
        "id": "5lZoYmx1LwOQ"
      },
      "execution_count": null,
      "outputs": []
    },
    {
      "cell_type": "markdown",
      "source": [
        "## Ko-Bart\n",
        "\n",
        "사투리 -> 표준어 번역 프로세싱"
      ],
      "metadata": {
        "id": "dTNG4swv8TH4"
      }
    },
    {
      "cell_type": "code",
      "source": [
        "dir = \"/kaggle/input/labeled-trainset\" #경상도 텍스트 데이터\n",
        "\n",
        "files = glob.glob(f\"{dir}/*.json\")\n",
        "df = pd.DataFrame(index=range(2), columns=[\"사투리\",\"표준어\"])\n",
        "\n",
        "for file in files:\n",
        "    _dict = defaultdict(list)\n",
        "\n",
        "    with open(file) as f:\n",
        "        json_data = json.load(f)\n",
        "        # JSON 파일의 utterance 키 값 아래에 리스트형태로 데이터가 존재했다.\n",
        "        data = json_data.get(\"utterance\")\n",
        "\n",
        "        for item in data:\n",
        "            # standard_form(표준어)와 dialect_form(사투리)가 일치하지 않는다면?\n",
        "            standard = item.get(\"standard_form\")\n",
        "            dialect = item.get(\"dialect_form\")\n",
        "            if standard != dialect:\n",
        "                _dict[\"표준어\"].append(standard)\n",
        "                _dict[\"사투리\"].append(dialect)\n",
        "\n",
        "    # 한 JSON 파일에서 데이터 추출이 끝나면 비어있던 데이터프레임에 추가\n",
        "    append_df = pd.DataFrame(_dict)\n",
        "    df = (append_df)\n",
        "    df = pd.concat([df, append_df], ignore_index=True)\n",
        "\n",
        "df.to_csv(\"data.tsv\",sep=\"\\t\")"
      ],
      "metadata": {
        "execution": {
          "iopub.status.busy": "2024-03-22T06:36:55.397031Z",
          "iopub.execute_input": "2024-03-22T06:36:55.397362Z",
          "iopub.status.idle": "2024-03-22T06:38:00.579553Z",
          "shell.execute_reply.started": "2024-03-22T06:36:55.397334Z",
          "shell.execute_reply": "2024-03-22T06:38:00.578352Z"
        },
        "trusted": true,
        "id": "lt12o2LX8TIC"
      },
      "execution_count": null,
      "outputs": []
    },
    {
      "cell_type": "code",
      "source": [
        "df.tail()"
      ],
      "metadata": {
        "execution": {
          "iopub.status.busy": "2024-03-22T06:38:00.581250Z",
          "iopub.execute_input": "2024-03-22T06:38:00.581553Z",
          "iopub.status.idle": "2024-03-22T06:38:00.592856Z",
          "shell.execute_reply.started": "2024-03-22T06:38:00.581526Z",
          "shell.execute_reply": "2024-03-22T06:38:00.591708Z"
        },
        "trusted": true,
        "id": "lGya7kE98TIC",
        "outputId": "c5b36b92-9ea0-41f4-ba7a-53f00e5810c7",
        "colab": {
          "base_uri": "https://localhost:8080/",
          "height": 112
        }
      },
      "execution_count": null,
      "outputs": [
        {
          "output_type": "execute_result",
          "data": {
            "text/plain": [
              "   사투리  표준어\n",
              "0  NaN  NaN\n",
              "1  NaN  NaN"
            ],
            "text/html": [
              "\n",
              "  <div id=\"df-a78980ee-29d9-423f-9bba-f5602cbbbebf\" class=\"colab-df-container\">\n",
              "    <div>\n",
              "<style scoped>\n",
              "    .dataframe tbody tr th:only-of-type {\n",
              "        vertical-align: middle;\n",
              "    }\n",
              "\n",
              "    .dataframe tbody tr th {\n",
              "        vertical-align: top;\n",
              "    }\n",
              "\n",
              "    .dataframe thead th {\n",
              "        text-align: right;\n",
              "    }\n",
              "</style>\n",
              "<table border=\"1\" class=\"dataframe\">\n",
              "  <thead>\n",
              "    <tr style=\"text-align: right;\">\n",
              "      <th></th>\n",
              "      <th>사투리</th>\n",
              "      <th>표준어</th>\n",
              "    </tr>\n",
              "  </thead>\n",
              "  <tbody>\n",
              "    <tr>\n",
              "      <th>0</th>\n",
              "      <td>NaN</td>\n",
              "      <td>NaN</td>\n",
              "    </tr>\n",
              "    <tr>\n",
              "      <th>1</th>\n",
              "      <td>NaN</td>\n",
              "      <td>NaN</td>\n",
              "    </tr>\n",
              "  </tbody>\n",
              "</table>\n",
              "</div>\n",
              "    <div class=\"colab-df-buttons\">\n",
              "\n",
              "  <div class=\"colab-df-container\">\n",
              "    <button class=\"colab-df-convert\" onclick=\"convertToInteractive('df-a78980ee-29d9-423f-9bba-f5602cbbbebf')\"\n",
              "            title=\"Convert this dataframe to an interactive table.\"\n",
              "            style=\"display:none;\">\n",
              "\n",
              "  <svg xmlns=\"http://www.w3.org/2000/svg\" height=\"24px\" viewBox=\"0 -960 960 960\">\n",
              "    <path d=\"M120-120v-720h720v720H120Zm60-500h600v-160H180v160Zm220 220h160v-160H400v160Zm0 220h160v-160H400v160ZM180-400h160v-160H180v160Zm440 0h160v-160H620v160ZM180-180h160v-160H180v160Zm440 0h160v-160H620v160Z\"/>\n",
              "  </svg>\n",
              "    </button>\n",
              "\n",
              "  <style>\n",
              "    .colab-df-container {\n",
              "      display:flex;\n",
              "      gap: 12px;\n",
              "    }\n",
              "\n",
              "    .colab-df-convert {\n",
              "      background-color: #E8F0FE;\n",
              "      border: none;\n",
              "      border-radius: 50%;\n",
              "      cursor: pointer;\n",
              "      display: none;\n",
              "      fill: #1967D2;\n",
              "      height: 32px;\n",
              "      padding: 0 0 0 0;\n",
              "      width: 32px;\n",
              "    }\n",
              "\n",
              "    .colab-df-convert:hover {\n",
              "      background-color: #E2EBFA;\n",
              "      box-shadow: 0px 1px 2px rgba(60, 64, 67, 0.3), 0px 1px 3px 1px rgba(60, 64, 67, 0.15);\n",
              "      fill: #174EA6;\n",
              "    }\n",
              "\n",
              "    .colab-df-buttons div {\n",
              "      margin-bottom: 4px;\n",
              "    }\n",
              "\n",
              "    [theme=dark] .colab-df-convert {\n",
              "      background-color: #3B4455;\n",
              "      fill: #D2E3FC;\n",
              "    }\n",
              "\n",
              "    [theme=dark] .colab-df-convert:hover {\n",
              "      background-color: #434B5C;\n",
              "      box-shadow: 0px 1px 3px 1px rgba(0, 0, 0, 0.15);\n",
              "      filter: drop-shadow(0px 1px 2px rgba(0, 0, 0, 0.3));\n",
              "      fill: #FFFFFF;\n",
              "    }\n",
              "  </style>\n",
              "\n",
              "    <script>\n",
              "      const buttonEl =\n",
              "        document.querySelector('#df-a78980ee-29d9-423f-9bba-f5602cbbbebf button.colab-df-convert');\n",
              "      buttonEl.style.display =\n",
              "        google.colab.kernel.accessAllowed ? 'block' : 'none';\n",
              "\n",
              "      async function convertToInteractive(key) {\n",
              "        const element = document.querySelector('#df-a78980ee-29d9-423f-9bba-f5602cbbbebf');\n",
              "        const dataTable =\n",
              "          await google.colab.kernel.invokeFunction('convertToInteractive',\n",
              "                                                    [key], {});\n",
              "        if (!dataTable) return;\n",
              "\n",
              "        const docLinkHtml = 'Like what you see? Visit the ' +\n",
              "          '<a target=\"_blank\" href=https://colab.research.google.com/notebooks/data_table.ipynb>data table notebook</a>'\n",
              "          + ' to learn more about interactive tables.';\n",
              "        element.innerHTML = '';\n",
              "        dataTable['output_type'] = 'display_data';\n",
              "        await google.colab.output.renderOutput(dataTable, element);\n",
              "        const docLink = document.createElement('div');\n",
              "        docLink.innerHTML = docLinkHtml;\n",
              "        element.appendChild(docLink);\n",
              "      }\n",
              "    </script>\n",
              "  </div>\n",
              "\n",
              "\n",
              "<div id=\"df-54196f06-8a6f-439d-b309-3807e087fa47\">\n",
              "  <button class=\"colab-df-quickchart\" onclick=\"quickchart('df-54196f06-8a6f-439d-b309-3807e087fa47')\"\n",
              "            title=\"Suggest charts\"\n",
              "            style=\"display:none;\">\n",
              "\n",
              "<svg xmlns=\"http://www.w3.org/2000/svg\" height=\"24px\"viewBox=\"0 0 24 24\"\n",
              "     width=\"24px\">\n",
              "    <g>\n",
              "        <path d=\"M19 3H5c-1.1 0-2 .9-2 2v14c0 1.1.9 2 2 2h14c1.1 0 2-.9 2-2V5c0-1.1-.9-2-2-2zM9 17H7v-7h2v7zm4 0h-2V7h2v10zm4 0h-2v-4h2v4z\"/>\n",
              "    </g>\n",
              "</svg>\n",
              "  </button>\n",
              "\n",
              "<style>\n",
              "  .colab-df-quickchart {\n",
              "      --bg-color: #E8F0FE;\n",
              "      --fill-color: #1967D2;\n",
              "      --hover-bg-color: #E2EBFA;\n",
              "      --hover-fill-color: #174EA6;\n",
              "      --disabled-fill-color: #AAA;\n",
              "      --disabled-bg-color: #DDD;\n",
              "  }\n",
              "\n",
              "  [theme=dark] .colab-df-quickchart {\n",
              "      --bg-color: #3B4455;\n",
              "      --fill-color: #D2E3FC;\n",
              "      --hover-bg-color: #434B5C;\n",
              "      --hover-fill-color: #FFFFFF;\n",
              "      --disabled-bg-color: #3B4455;\n",
              "      --disabled-fill-color: #666;\n",
              "  }\n",
              "\n",
              "  .colab-df-quickchart {\n",
              "    background-color: var(--bg-color);\n",
              "    border: none;\n",
              "    border-radius: 50%;\n",
              "    cursor: pointer;\n",
              "    display: none;\n",
              "    fill: var(--fill-color);\n",
              "    height: 32px;\n",
              "    padding: 0;\n",
              "    width: 32px;\n",
              "  }\n",
              "\n",
              "  .colab-df-quickchart:hover {\n",
              "    background-color: var(--hover-bg-color);\n",
              "    box-shadow: 0 1px 2px rgba(60, 64, 67, 0.3), 0 1px 3px 1px rgba(60, 64, 67, 0.15);\n",
              "    fill: var(--button-hover-fill-color);\n",
              "  }\n",
              "\n",
              "  .colab-df-quickchart-complete:disabled,\n",
              "  .colab-df-quickchart-complete:disabled:hover {\n",
              "    background-color: var(--disabled-bg-color);\n",
              "    fill: var(--disabled-fill-color);\n",
              "    box-shadow: none;\n",
              "  }\n",
              "\n",
              "  .colab-df-spinner {\n",
              "    border: 2px solid var(--fill-color);\n",
              "    border-color: transparent;\n",
              "    border-bottom-color: var(--fill-color);\n",
              "    animation:\n",
              "      spin 1s steps(1) infinite;\n",
              "  }\n",
              "\n",
              "  @keyframes spin {\n",
              "    0% {\n",
              "      border-color: transparent;\n",
              "      border-bottom-color: var(--fill-color);\n",
              "      border-left-color: var(--fill-color);\n",
              "    }\n",
              "    20% {\n",
              "      border-color: transparent;\n",
              "      border-left-color: var(--fill-color);\n",
              "      border-top-color: var(--fill-color);\n",
              "    }\n",
              "    30% {\n",
              "      border-color: transparent;\n",
              "      border-left-color: var(--fill-color);\n",
              "      border-top-color: var(--fill-color);\n",
              "      border-right-color: var(--fill-color);\n",
              "    }\n",
              "    40% {\n",
              "      border-color: transparent;\n",
              "      border-right-color: var(--fill-color);\n",
              "      border-top-color: var(--fill-color);\n",
              "    }\n",
              "    60% {\n",
              "      border-color: transparent;\n",
              "      border-right-color: var(--fill-color);\n",
              "    }\n",
              "    80% {\n",
              "      border-color: transparent;\n",
              "      border-right-color: var(--fill-color);\n",
              "      border-bottom-color: var(--fill-color);\n",
              "    }\n",
              "    90% {\n",
              "      border-color: transparent;\n",
              "      border-bottom-color: var(--fill-color);\n",
              "    }\n",
              "  }\n",
              "</style>\n",
              "\n",
              "  <script>\n",
              "    async function quickchart(key) {\n",
              "      const quickchartButtonEl =\n",
              "        document.querySelector('#' + key + ' button');\n",
              "      quickchartButtonEl.disabled = true;  // To prevent multiple clicks.\n",
              "      quickchartButtonEl.classList.add('colab-df-spinner');\n",
              "      try {\n",
              "        const charts = await google.colab.kernel.invokeFunction(\n",
              "            'suggestCharts', [key], {});\n",
              "      } catch (error) {\n",
              "        console.error('Error during call to suggestCharts:', error);\n",
              "      }\n",
              "      quickchartButtonEl.classList.remove('colab-df-spinner');\n",
              "      quickchartButtonEl.classList.add('colab-df-quickchart-complete');\n",
              "    }\n",
              "    (() => {\n",
              "      let quickchartButtonEl =\n",
              "        document.querySelector('#df-54196f06-8a6f-439d-b309-3807e087fa47 button');\n",
              "      quickchartButtonEl.style.display =\n",
              "        google.colab.kernel.accessAllowed ? 'block' : 'none';\n",
              "    })();\n",
              "  </script>\n",
              "</div>\n",
              "\n",
              "    </div>\n",
              "  </div>\n"
            ],
            "application/vnd.google.colaboratory.intrinsic+json": {
              "type": "dataframe",
              "repr_error": "Out of range float values are not JSON compliant: nan"
            }
          },
          "metadata": {},
          "execution_count": 16
        }
      ]
    },
    {
      "cell_type": "markdown",
      "source": [
        "## 전처리"
      ],
      "metadata": {
        "id": "tcbLItox8TID"
      }
    },
    {
      "cell_type": "code",
      "source": [
        "import re\n",
        "\n",
        "step1 = re.compile(r'&\\w+&')\n",
        "step2 = re.compile(r'\\(*\\)')\n",
        "step3 = re.compile(r'\\{[^}]*\\}')\n",
        "step4 = re.compile(r'\\-[^}]*\\-')\n",
        "\n",
        "#예시 문장\n",
        "text1 = \"&name2& 님은 뭐~ {laughing} (()) 힘들 때 -위- 위로가 되어 준 노래 같은 게 있으신가요?\"\n",
        "text2 = \"어~ {반가움} &name123&! (()) 반갑고 ㅋㅋ -오- 오랜만이다\"\n",
        "\n",
        "# 무식해보이지만 일단 확인해보자!\n",
        "for text in [text1,text2]:\n",
        "    after_step1=step1.sub('',text)\n",
        "    after_step2=step2.sub('',after_step1)\n",
        "    after_step3=step3.sub('',after_step2)\n",
        "    after_step4=step4.sub('',after_step3)\n",
        "\n",
        "    print(f\"Text : {text}\")\n",
        "    print(f\"Step 1 : {after_step1}\")\n",
        "    print(f\"Step 2 : {after_step2}\")\n",
        "    print(f\"Step 3 : {after_step3}\")\n",
        "    print(f\"Step 4 : {after_step4}\")\n",
        "    print(\"\\n\\n\")"
      ],
      "metadata": {
        "execution": {
          "iopub.status.busy": "2024-03-22T06:38:00.594244Z",
          "iopub.execute_input": "2024-03-22T06:38:00.594624Z",
          "iopub.status.idle": "2024-03-22T06:38:00.609858Z",
          "shell.execute_reply.started": "2024-03-22T06:38:00.594557Z",
          "shell.execute_reply": "2024-03-22T06:38:00.607031Z"
        },
        "trusted": true,
        "id": "QQdRWylh8TID",
        "outputId": "dcedcb95-2f07-43a3-a42c-696d93f2f7a5",
        "colab": {
          "base_uri": "https://localhost:8080/"
        }
      },
      "execution_count": null,
      "outputs": [
        {
          "output_type": "stream",
          "name": "stdout",
          "text": [
            "Text : &name2& 님은 뭐~ {laughing} (()) 힘들 때 -위- 위로가 되어 준 노래 같은 게 있으신가요?\n",
            "Step 1 :  님은 뭐~ {laughing} (()) 힘들 때 -위- 위로가 되어 준 노래 같은 게 있으신가요?\n",
            "Step 2 :  님은 뭐~ {laughing}  힘들 때 -위- 위로가 되어 준 노래 같은 게 있으신가요?\n",
            "Step 3 :  님은 뭐~   힘들 때 -위- 위로가 되어 준 노래 같은 게 있으신가요?\n",
            "Step 4 :  님은 뭐~   힘들 때  위로가 되어 준 노래 같은 게 있으신가요?\n",
            "\n",
            "\n",
            "\n",
            "Text : 어~ {반가움} &name123&! (()) 반갑고 ㅋㅋ -오- 오랜만이다\n",
            "Step 1 : 어~ {반가움} ! (()) 반갑고 ㅋㅋ -오- 오랜만이다\n",
            "Step 2 : 어~ {반가움} !  반갑고 ㅋㅋ -오- 오랜만이다\n",
            "Step 3 : 어~  !  반갑고 ㅋㅋ -오- 오랜만이다\n",
            "Step 4 : 어~  !  반갑고 ㅋㅋ  오랜만이다\n",
            "\n",
            "\n",
            "\n"
          ]
        }
      ]
    },
    {
      "cell_type": "markdown",
      "source": [
        "## 데이터 정제"
      ],
      "metadata": {
        "id": "aEN677Rq8TID"
      }
    },
    {
      "cell_type": "code",
      "source": [
        "df = pd.read_csv(f'/kaggle/working/data.tsv',sep='\\t')\n",
        "\n",
        "# data.tsv를 불러왔더니 nan 값이 들어있어 일단 삭제해줬다.\n",
        "df = df.dropna()\n",
        "\n",
        "# 아까 지정해뒀던 정규표현식들\n",
        "step1 = re.compile(r'&\\w+&')\n",
        "step2 = re.compile(r'\\(*\\)')\n",
        "step3 = re.compile(r'\\{[^}]*\\}')\n",
        "step4 = re.compile(r'\\-[^}]*\\-')\n",
        "\n",
        "\n",
        "def make_cleaned_text(text):\n",
        "    after_step1=step1.sub('',text)\n",
        "    after_step2=step2.sub('',after_step1)\n",
        "    after_step3=step3.sub('',after_step2)\n",
        "    after_step4=step4.sub('',after_step3)\n",
        "\n",
        "    return after_step4\n",
        "\n",
        "for idx, row in df.iterrows():\n",
        "    df.at[idx, '사투리'] = make_cleaned_text(row['사투리'])\n",
        "    df.at[idx, '표준어'] = make_cleaned_text(row['표준어'])\n",
        "\n",
        "df = df.iloc[:, 1:]\n",
        "\n",
        "df.to_csv('/kaggle/working/data_fixed.tsv', index=False, sep='\\t')"
      ],
      "metadata": {
        "execution": {
          "iopub.status.busy": "2024-03-22T06:38:00.612762Z",
          "iopub.execute_input": "2024-03-22T06:38:00.613119Z",
          "iopub.status.idle": "2024-03-22T06:38:00.631656Z",
          "shell.execute_reply.started": "2024-03-22T06:38:00.613093Z",
          "shell.execute_reply": "2024-03-22T06:38:00.630583Z"
        },
        "trusted": true,
        "id": "vkuvo9IA8TIE",
        "colab": {
          "base_uri": "https://localhost:8080/",
          "height": 374
        },
        "outputId": "d8b4022d-7a37-4323-8ebe-d641a197b764"
      },
      "execution_count": null,
      "outputs": [
        {
          "output_type": "error",
          "ename": "FileNotFoundError",
          "evalue": "[Errno 2] No such file or directory: '/kaggle/working/data.tsv'",
          "traceback": [
            "\u001b[0;31m---------------------------------------------------------------------------\u001b[0m",
            "\u001b[0;31mFileNotFoundError\u001b[0m                         Traceback (most recent call last)",
            "\u001b[0;32m<ipython-input-14-ab158e033eed>\u001b[0m in \u001b[0;36m<cell line: 1>\u001b[0;34m()\u001b[0m\n\u001b[0;32m----> 1\u001b[0;31m \u001b[0mdf\u001b[0m \u001b[0;34m=\u001b[0m \u001b[0mpd\u001b[0m\u001b[0;34m.\u001b[0m\u001b[0mread_csv\u001b[0m\u001b[0;34m(\u001b[0m\u001b[0;34mf'/kaggle/working/data.tsv'\u001b[0m\u001b[0;34m,\u001b[0m\u001b[0msep\u001b[0m\u001b[0;34m=\u001b[0m\u001b[0;34m'\\t'\u001b[0m\u001b[0;34m)\u001b[0m\u001b[0;34m\u001b[0m\u001b[0;34m\u001b[0m\u001b[0m\n\u001b[0m\u001b[1;32m      2\u001b[0m \u001b[0;34m\u001b[0m\u001b[0m\n\u001b[1;32m      3\u001b[0m \u001b[0;31m# data.tsv를 불러왔더니 nan 값이 들어있어 일단 삭제해줬다.\u001b[0m\u001b[0;34m\u001b[0m\u001b[0;34m\u001b[0m\u001b[0m\n\u001b[1;32m      4\u001b[0m \u001b[0mdf\u001b[0m \u001b[0;34m=\u001b[0m \u001b[0mdf\u001b[0m\u001b[0;34m.\u001b[0m\u001b[0mdropna\u001b[0m\u001b[0;34m(\u001b[0m\u001b[0;34m)\u001b[0m\u001b[0;34m\u001b[0m\u001b[0;34m\u001b[0m\u001b[0m\n\u001b[1;32m      5\u001b[0m \u001b[0;34m\u001b[0m\u001b[0m\n",
            "\u001b[0;32m/usr/local/lib/python3.10/dist-packages/pandas/util/_decorators.py\u001b[0m in \u001b[0;36mwrapper\u001b[0;34m(*args, **kwargs)\u001b[0m\n\u001b[1;32m    209\u001b[0m                 \u001b[0;32melse\u001b[0m\u001b[0;34m:\u001b[0m\u001b[0;34m\u001b[0m\u001b[0;34m\u001b[0m\u001b[0m\n\u001b[1;32m    210\u001b[0m                     \u001b[0mkwargs\u001b[0m\u001b[0;34m[\u001b[0m\u001b[0mnew_arg_name\u001b[0m\u001b[0;34m]\u001b[0m \u001b[0;34m=\u001b[0m \u001b[0mnew_arg_value\u001b[0m\u001b[0;34m\u001b[0m\u001b[0;34m\u001b[0m\u001b[0m\n\u001b[0;32m--> 211\u001b[0;31m             \u001b[0;32mreturn\u001b[0m \u001b[0mfunc\u001b[0m\u001b[0;34m(\u001b[0m\u001b[0;34m*\u001b[0m\u001b[0margs\u001b[0m\u001b[0;34m,\u001b[0m \u001b[0;34m**\u001b[0m\u001b[0mkwargs\u001b[0m\u001b[0;34m)\u001b[0m\u001b[0;34m\u001b[0m\u001b[0;34m\u001b[0m\u001b[0m\n\u001b[0m\u001b[1;32m    212\u001b[0m \u001b[0;34m\u001b[0m\u001b[0m\n\u001b[1;32m    213\u001b[0m         \u001b[0;32mreturn\u001b[0m \u001b[0mcast\u001b[0m\u001b[0;34m(\u001b[0m\u001b[0mF\u001b[0m\u001b[0;34m,\u001b[0m \u001b[0mwrapper\u001b[0m\u001b[0;34m)\u001b[0m\u001b[0;34m\u001b[0m\u001b[0;34m\u001b[0m\u001b[0m\n",
            "\u001b[0;32m/usr/local/lib/python3.10/dist-packages/pandas/util/_decorators.py\u001b[0m in \u001b[0;36mwrapper\u001b[0;34m(*args, **kwargs)\u001b[0m\n\u001b[1;32m    329\u001b[0m                     \u001b[0mstacklevel\u001b[0m\u001b[0;34m=\u001b[0m\u001b[0mfind_stack_level\u001b[0m\u001b[0;34m(\u001b[0m\u001b[0;34m)\u001b[0m\u001b[0;34m,\u001b[0m\u001b[0;34m\u001b[0m\u001b[0;34m\u001b[0m\u001b[0m\n\u001b[1;32m    330\u001b[0m                 )\n\u001b[0;32m--> 331\u001b[0;31m             \u001b[0;32mreturn\u001b[0m \u001b[0mfunc\u001b[0m\u001b[0;34m(\u001b[0m\u001b[0;34m*\u001b[0m\u001b[0margs\u001b[0m\u001b[0;34m,\u001b[0m \u001b[0;34m**\u001b[0m\u001b[0mkwargs\u001b[0m\u001b[0;34m)\u001b[0m\u001b[0;34m\u001b[0m\u001b[0;34m\u001b[0m\u001b[0m\n\u001b[0m\u001b[1;32m    332\u001b[0m \u001b[0;34m\u001b[0m\u001b[0m\n\u001b[1;32m    333\u001b[0m         \u001b[0;31m# error: \"Callable[[VarArg(Any), KwArg(Any)], Any]\" has no\u001b[0m\u001b[0;34m\u001b[0m\u001b[0;34m\u001b[0m\u001b[0m\n",
            "\u001b[0;32m/usr/local/lib/python3.10/dist-packages/pandas/io/parsers/readers.py\u001b[0m in \u001b[0;36mread_csv\u001b[0;34m(filepath_or_buffer, sep, delimiter, header, names, index_col, usecols, squeeze, prefix, mangle_dupe_cols, dtype, engine, converters, true_values, false_values, skipinitialspace, skiprows, skipfooter, nrows, na_values, keep_default_na, na_filter, verbose, skip_blank_lines, parse_dates, infer_datetime_format, keep_date_col, date_parser, dayfirst, cache_dates, iterator, chunksize, compression, thousands, decimal, lineterminator, quotechar, quoting, doublequote, escapechar, comment, encoding, encoding_errors, dialect, error_bad_lines, warn_bad_lines, on_bad_lines, delim_whitespace, low_memory, memory_map, float_precision, storage_options)\u001b[0m\n\u001b[1;32m    948\u001b[0m     \u001b[0mkwds\u001b[0m\u001b[0;34m.\u001b[0m\u001b[0mupdate\u001b[0m\u001b[0;34m(\u001b[0m\u001b[0mkwds_defaults\u001b[0m\u001b[0;34m)\u001b[0m\u001b[0;34m\u001b[0m\u001b[0;34m\u001b[0m\u001b[0m\n\u001b[1;32m    949\u001b[0m \u001b[0;34m\u001b[0m\u001b[0m\n\u001b[0;32m--> 950\u001b[0;31m     \u001b[0;32mreturn\u001b[0m \u001b[0m_read\u001b[0m\u001b[0;34m(\u001b[0m\u001b[0mfilepath_or_buffer\u001b[0m\u001b[0;34m,\u001b[0m \u001b[0mkwds\u001b[0m\u001b[0;34m)\u001b[0m\u001b[0;34m\u001b[0m\u001b[0;34m\u001b[0m\u001b[0m\n\u001b[0m\u001b[1;32m    951\u001b[0m \u001b[0;34m\u001b[0m\u001b[0m\n\u001b[1;32m    952\u001b[0m \u001b[0;34m\u001b[0m\u001b[0m\n",
            "\u001b[0;32m/usr/local/lib/python3.10/dist-packages/pandas/io/parsers/readers.py\u001b[0m in \u001b[0;36m_read\u001b[0;34m(filepath_or_buffer, kwds)\u001b[0m\n\u001b[1;32m    603\u001b[0m \u001b[0;34m\u001b[0m\u001b[0m\n\u001b[1;32m    604\u001b[0m     \u001b[0;31m# Create the parser.\u001b[0m\u001b[0;34m\u001b[0m\u001b[0;34m\u001b[0m\u001b[0m\n\u001b[0;32m--> 605\u001b[0;31m     \u001b[0mparser\u001b[0m \u001b[0;34m=\u001b[0m \u001b[0mTextFileReader\u001b[0m\u001b[0;34m(\u001b[0m\u001b[0mfilepath_or_buffer\u001b[0m\u001b[0;34m,\u001b[0m \u001b[0;34m**\u001b[0m\u001b[0mkwds\u001b[0m\u001b[0;34m)\u001b[0m\u001b[0;34m\u001b[0m\u001b[0;34m\u001b[0m\u001b[0m\n\u001b[0m\u001b[1;32m    606\u001b[0m \u001b[0;34m\u001b[0m\u001b[0m\n\u001b[1;32m    607\u001b[0m     \u001b[0;32mif\u001b[0m \u001b[0mchunksize\u001b[0m \u001b[0;32mor\u001b[0m \u001b[0miterator\u001b[0m\u001b[0;34m:\u001b[0m\u001b[0;34m\u001b[0m\u001b[0;34m\u001b[0m\u001b[0m\n",
            "\u001b[0;32m/usr/local/lib/python3.10/dist-packages/pandas/io/parsers/readers.py\u001b[0m in \u001b[0;36m__init__\u001b[0;34m(self, f, engine, **kwds)\u001b[0m\n\u001b[1;32m   1440\u001b[0m \u001b[0;34m\u001b[0m\u001b[0m\n\u001b[1;32m   1441\u001b[0m         \u001b[0mself\u001b[0m\u001b[0;34m.\u001b[0m\u001b[0mhandles\u001b[0m\u001b[0;34m:\u001b[0m \u001b[0mIOHandles\u001b[0m \u001b[0;34m|\u001b[0m \u001b[0;32mNone\u001b[0m \u001b[0;34m=\u001b[0m \u001b[0;32mNone\u001b[0m\u001b[0;34m\u001b[0m\u001b[0;34m\u001b[0m\u001b[0m\n\u001b[0;32m-> 1442\u001b[0;31m         \u001b[0mself\u001b[0m\u001b[0;34m.\u001b[0m\u001b[0m_engine\u001b[0m \u001b[0;34m=\u001b[0m \u001b[0mself\u001b[0m\u001b[0;34m.\u001b[0m\u001b[0m_make_engine\u001b[0m\u001b[0;34m(\u001b[0m\u001b[0mf\u001b[0m\u001b[0;34m,\u001b[0m \u001b[0mself\u001b[0m\u001b[0;34m.\u001b[0m\u001b[0mengine\u001b[0m\u001b[0;34m)\u001b[0m\u001b[0;34m\u001b[0m\u001b[0;34m\u001b[0m\u001b[0m\n\u001b[0m\u001b[1;32m   1443\u001b[0m \u001b[0;34m\u001b[0m\u001b[0m\n\u001b[1;32m   1444\u001b[0m     \u001b[0;32mdef\u001b[0m \u001b[0mclose\u001b[0m\u001b[0;34m(\u001b[0m\u001b[0mself\u001b[0m\u001b[0;34m)\u001b[0m \u001b[0;34m->\u001b[0m \u001b[0;32mNone\u001b[0m\u001b[0;34m:\u001b[0m\u001b[0;34m\u001b[0m\u001b[0;34m\u001b[0m\u001b[0m\n",
            "\u001b[0;32m/usr/local/lib/python3.10/dist-packages/pandas/io/parsers/readers.py\u001b[0m in \u001b[0;36m_make_engine\u001b[0;34m(self, f, engine)\u001b[0m\n\u001b[1;32m   1733\u001b[0m                 \u001b[0;32mif\u001b[0m \u001b[0;34m\"b\"\u001b[0m \u001b[0;32mnot\u001b[0m \u001b[0;32min\u001b[0m \u001b[0mmode\u001b[0m\u001b[0;34m:\u001b[0m\u001b[0;34m\u001b[0m\u001b[0;34m\u001b[0m\u001b[0m\n\u001b[1;32m   1734\u001b[0m                     \u001b[0mmode\u001b[0m \u001b[0;34m+=\u001b[0m \u001b[0;34m\"b\"\u001b[0m\u001b[0;34m\u001b[0m\u001b[0;34m\u001b[0m\u001b[0m\n\u001b[0;32m-> 1735\u001b[0;31m             self.handles = get_handle(\n\u001b[0m\u001b[1;32m   1736\u001b[0m                 \u001b[0mf\u001b[0m\u001b[0;34m,\u001b[0m\u001b[0;34m\u001b[0m\u001b[0;34m\u001b[0m\u001b[0m\n\u001b[1;32m   1737\u001b[0m                 \u001b[0mmode\u001b[0m\u001b[0;34m,\u001b[0m\u001b[0;34m\u001b[0m\u001b[0;34m\u001b[0m\u001b[0m\n",
            "\u001b[0;32m/usr/local/lib/python3.10/dist-packages/pandas/io/common.py\u001b[0m in \u001b[0;36mget_handle\u001b[0;34m(path_or_buf, mode, encoding, compression, memory_map, is_text, errors, storage_options)\u001b[0m\n\u001b[1;32m    854\u001b[0m         \u001b[0;32mif\u001b[0m \u001b[0mioargs\u001b[0m\u001b[0;34m.\u001b[0m\u001b[0mencoding\u001b[0m \u001b[0;32mand\u001b[0m \u001b[0;34m\"b\"\u001b[0m \u001b[0;32mnot\u001b[0m \u001b[0;32min\u001b[0m \u001b[0mioargs\u001b[0m\u001b[0;34m.\u001b[0m\u001b[0mmode\u001b[0m\u001b[0;34m:\u001b[0m\u001b[0;34m\u001b[0m\u001b[0;34m\u001b[0m\u001b[0m\n\u001b[1;32m    855\u001b[0m             \u001b[0;31m# Encoding\u001b[0m\u001b[0;34m\u001b[0m\u001b[0;34m\u001b[0m\u001b[0m\n\u001b[0;32m--> 856\u001b[0;31m             handle = open(\n\u001b[0m\u001b[1;32m    857\u001b[0m                 \u001b[0mhandle\u001b[0m\u001b[0;34m,\u001b[0m\u001b[0;34m\u001b[0m\u001b[0;34m\u001b[0m\u001b[0m\n\u001b[1;32m    858\u001b[0m                 \u001b[0mioargs\u001b[0m\u001b[0;34m.\u001b[0m\u001b[0mmode\u001b[0m\u001b[0;34m,\u001b[0m\u001b[0;34m\u001b[0m\u001b[0;34m\u001b[0m\u001b[0m\n",
            "\u001b[0;31mFileNotFoundError\u001b[0m: [Errno 2] No such file or directory: '/kaggle/working/data.tsv'"
          ]
        }
      ]
    },
    {
      "cell_type": "code",
      "source": [
        "df.tail()"
      ],
      "metadata": {
        "execution": {
          "iopub.status.busy": "2024-03-22T06:38:00.632943Z",
          "iopub.execute_input": "2024-03-22T06:38:00.633341Z",
          "iopub.status.idle": "2024-03-22T06:38:00.645071Z",
          "shell.execute_reply.started": "2024-03-22T06:38:00.633306Z",
          "shell.execute_reply": "2024-03-22T06:38:00.644016Z"
        },
        "trusted": true,
        "id": "vj3kQrhd8TIE",
        "outputId": "fd280a7b-a267-43e8-a866-64b8200eb8f4"
      },
      "execution_count": null,
      "outputs": [
        {
          "execution_count": 94,
          "output_type": "execute_result",
          "data": {
            "text/plain": "                                                  표준어  \\\n20                                 고 나중에 조금 들어가도 되겠다.   \n21                    웃긴 얘기는  제가 진짜 솔직히 조금 생각이 안 나네요.   \n22  어~ 저 어느 순간 내가 이 경쟁에서 살고 있으면서도 이 경쟁 사회에 대해서 너무 ...   \n23                        어~ 그런 거에서 제가 조금 깨달음을 얻었습니다.   \n24                 그 속도도 내가 인제 조금 조절할 수 있는 내 삶에 쪼끔 내가   \n\n                                                  사투리  \n20                                  고 나중에 쫌 들어가도 되겠다.  \n21                     웃긴 얘기는  제가 진짜 솔직히 쫌 생각이 안 나네요.  \n22  어~ 저 어느 순간 내가 이 경쟁에서 살고 있으면서도 이 경쟁 사회에 대해서 너무 ...  \n23                         어~ 그런 거에서 제가 쫌 깨달음을 얻었습니다.  \n24                  그 속도도 내가 인제 쫌 조절할 수 있는 내 삶에 쪼끔 내가  ",
            "text/html": "<div>\n<style scoped>\n    .dataframe tbody tr th:only-of-type {\n        vertical-align: middle;\n    }\n\n    .dataframe tbody tr th {\n        vertical-align: top;\n    }\n\n    .dataframe thead th {\n        text-align: right;\n    }\n</style>\n<table border=\"1\" class=\"dataframe\">\n  <thead>\n    <tr style=\"text-align: right;\">\n      <th></th>\n      <th>표준어</th>\n      <th>사투리</th>\n    </tr>\n  </thead>\n  <tbody>\n    <tr>\n      <th>20</th>\n      <td>고 나중에 조금 들어가도 되겠다.</td>\n      <td>고 나중에 쫌 들어가도 되겠다.</td>\n    </tr>\n    <tr>\n      <th>21</th>\n      <td>웃긴 얘기는  제가 진짜 솔직히 조금 생각이 안 나네요.</td>\n      <td>웃긴 얘기는  제가 진짜 솔직히 쫌 생각이 안 나네요.</td>\n    </tr>\n    <tr>\n      <th>22</th>\n      <td>어~ 저 어느 순간 내가 이 경쟁에서 살고 있으면서도 이 경쟁 사회에 대해서 너무 ...</td>\n      <td>어~ 저 어느 순간 내가 이 경쟁에서 살고 있으면서도 이 경쟁 사회에 대해서 너무 ...</td>\n    </tr>\n    <tr>\n      <th>23</th>\n      <td>어~ 그런 거에서 제가 조금 깨달음을 얻었습니다.</td>\n      <td>어~ 그런 거에서 제가 쫌 깨달음을 얻었습니다.</td>\n    </tr>\n    <tr>\n      <th>24</th>\n      <td>그 속도도 내가 인제 조금 조절할 수 있는 내 삶에 쪼끔 내가</td>\n      <td>그 속도도 내가 인제 쫌 조절할 수 있는 내 삶에 쪼끔 내가</td>\n    </tr>\n  </tbody>\n</table>\n</div>"
          },
          "metadata": {}
        }
      ]
    },
    {
      "cell_type": "markdown",
      "source": [
        "## 모델 파라미터 설정"
      ],
      "metadata": {
        "id": "Yy88cZj58TIE"
      }
    },
    {
      "cell_type": "code",
      "source": [
        "from transformers import AutoModelForSeq2SeqLM,AutoTokenizer\n",
        "\n",
        "# 모델 학습 후에 가중치 저장할 폴더\n",
        "model_path='/kaggle/working/saved_model'\n",
        "# 모델 초기 가중치 로드할 곳\n",
        "model_name = \"gogamza/kobart-base-v2\"\n",
        "# 데이터셋 파일\n",
        "data_root='/kaggle/working'\n",
        "\n",
        "# 내가 학습한 모델 가중치의 유무에 따라 분기 처리\n",
        "if os.path.exists(f'{model_path}/pytorch_model.bin'):\n",
        "    print(\"Use Customized Model\")\n",
        "    model = AutoModelForSeq2SeqLM.from_pretrained(model_path)\n",
        "else:\n",
        "    print(\"Use Pretrained Model\")\n",
        "    model = AutoModelForSeq2SeqLM.from_pretrained(model_name)\n",
        "tokenizer = AutoTokenizer.from_pretrained(model_name)\n",
        "\n",
        "\n",
        "# Training Arguments\n",
        "\n",
        "args = {\n",
        "    'num_train_epochs': 20,\n",
        "    'per_device_train_batch_size': 32,\n",
        "    'per_device_eval_batch_size': 32,\n",
        "    'overwrite_output_dir': True,\n",
        "    'eval_steps': 5,\n",
        "    'save_steps': 5,\n",
        "    'warmup_steps': 5,\n",
        "    'evaluation_strategy': \"steps\",\n",
        "    'prediction_loss_only': True,\n",
        "    'save_total_limit': 3\n",
        "}"
      ],
      "metadata": {
        "execution": {
          "iopub.status.busy": "2024-03-22T07:10:05.601481Z",
          "iopub.execute_input": "2024-03-22T07:10:05.602141Z",
          "iopub.status.idle": "2024-03-22T07:10:06.603257Z",
          "shell.execute_reply.started": "2024-03-22T07:10:05.602106Z",
          "shell.execute_reply": "2024-03-22T07:10:06.602092Z"
        },
        "trusted": true,
        "id": "vDiG0lz38TIE",
        "outputId": "252fd4c3-9adc-48db-a111-a4eab285da6d"
      },
      "execution_count": null,
      "outputs": [
        {
          "name": "stderr",
          "text": "You passed along `num_labels=3` with an incompatible id to label map: {'0': 'NEGATIVE', '1': 'POSITIVE'}. The number of labels wil be overwritten to 2.\n",
          "output_type": "stream"
        },
        {
          "name": "stdout",
          "text": "Use Pretrained Model\n",
          "output_type": "stream"
        },
        {
          "name": "stderr",
          "text": "You passed along `num_labels=3` with an incompatible id to label map: {'0': 'NEGATIVE', '1': 'POSITIVE'}. The number of labels wil be overwritten to 2.\nYou passed along `num_labels=3` with an incompatible id to label map: {'0': 'NEGATIVE', '1': 'POSITIVE'}. The number of labels wil be overwritten to 2.\n",
          "output_type": "stream"
        }
      ]
    },
    {
      "cell_type": "code",
      "source": [
        "row=df.iloc[0]\n",
        "text1=row[0]\n",
        "text2=row[1]\n",
        "print(text1);print(text2)"
      ],
      "metadata": {
        "execution": {
          "iopub.status.busy": "2024-03-22T06:38:01.771378Z",
          "iopub.execute_input": "2024-03-22T06:38:01.771815Z",
          "iopub.status.idle": "2024-03-22T06:38:01.781258Z",
          "shell.execute_reply.started": "2024-03-22T06:38:01.771776Z",
          "shell.execute_reply": "2024-03-22T06:38:01.780186Z"
        },
        "trusted": true,
        "id": "xgdkuNB48TIF",
        "outputId": "ccdd2ad0-da07-42d4-897b-6ab9c5c9a021"
      },
      "execution_count": null,
      "outputs": [
        {
          "name": "stdout",
          "text": "코로나 땜에 조금 이렇게\n코로나 땜에 쫌 이렇게\n",
          "output_type": "stream"
        }
      ]
    },
    {
      "cell_type": "code",
      "source": [
        "from torch.utils.data import Dataset\n",
        "\n",
        "class TextStyleTransferDataset(Dataset):\n",
        "    def __init__(self, df,tokenizer):\n",
        "        self.df = df\n",
        "        self.tokenizer = tokenizer\n",
        "\n",
        "    def __len__(self):\n",
        "        return len(self.df)\n",
        "\n",
        "    def __getitem__(self, index):\n",
        "        row=self.df.iloc[index]\n",
        "        text1=row[0] #표준어\n",
        "        text2=row[1] #사투리\n",
        "        target_style_name = '표준어'\n",
        "\n",
        "        # Tokenizer를 허깅페이스의 레포지토리에서 가져왔기 때문에\n",
        "        # 테스트 코드를 참고해서 모델 입력 형식을 만들었다.\n",
        "        encoder_text = f\"{target_style_name} 말투로 변환:{text1}\"\n",
        "        decoder_text = f\"{text2}{self.tokenizer.eos_token}\"\n",
        "        model_inputs = self.tokenizer(encoder_text, max_length=64, truncation=True)\n",
        "\n",
        "        with self.tokenizer.as_target_tokenizer():\n",
        "            labels = tokenizer(decoder_text, max_length=64, truncation=True)\n",
        "        model_inputs['labels'] = labels['input_ids']\n",
        "        del model_inputs['token_type_ids']\n",
        "\n",
        "        return model_inputs\n",
        "\n",
        "# 만들어뒀던 데이터셋을 불러와서 데이터프레임을 만들어준다\n",
        "def make_df(data_root):\n",
        "    df = pd.read_csv(f'{data_root}/data.tsv',sep='\\t')\n",
        "    # 주로 쓰이는 방법 같지는 않지만,, Train Data와 Test Data를 8:2 비율로 나눠준다\n",
        "    rate=int(len(df)*0.1)\n",
        "    df_train,df_test = df[rate:],df[:rate]\n",
        "\n",
        "    print(f'Train DataFrame length : {len(df_train)},Test DataFrame length : {len(df_test)}')\n",
        "    return df_train,df_test\n",
        "\n",
        "def make_dataset(df):\n",
        "    df_train,df_test = df\n",
        "\n",
        "    train_dataset = TextStyleTransferDataset(df_train,tokenizer)\n",
        "    test_dataset = TextStyleTransferDataset(df_test,tokenizer)\n",
        "\n",
        "    return train_dataset,test_dataset"
      ],
      "metadata": {
        "execution": {
          "iopub.status.busy": "2024-03-22T07:10:08.940812Z",
          "iopub.execute_input": "2024-03-22T07:10:08.941497Z",
          "iopub.status.idle": "2024-03-22T07:10:08.954774Z",
          "shell.execute_reply.started": "2024-03-22T07:10:08.941460Z",
          "shell.execute_reply": "2024-03-22T07:10:08.953690Z"
        },
        "trusted": true,
        "id": "QZ6EHuJ88TIF"
      },
      "execution_count": null,
      "outputs": []
    },
    {
      "cell_type": "markdown",
      "source": [
        "## 학습"
      ],
      "metadata": {
        "id": "7Tx9_k1z8TIF"
      }
    },
    {
      "cell_type": "code",
      "source": [
        "from transformers import Seq2SeqTrainingArguments,Seq2SeqTrainer,\\\n",
        "                         DataCollatorForSeq2Seq\n",
        "warnings.filterwarnings(\"ignore\")\n",
        "\n",
        "\n",
        "df = make_df(data_root)\n",
        "train_dataset,test_dataset=make_dataset(df)\n",
        "\n",
        "data_collator = DataCollatorForSeq2Seq(\n",
        "    tokenizer=tokenizer, model=model\n",
        ")\n",
        "\n",
        "\n",
        "training_args = Seq2SeqTrainingArguments(\n",
        "    **args,\n",
        "    output_dir=model_path,\n",
        "    )\n",
        "\n",
        "trainer = Seq2SeqTrainer(\n",
        "    model=model,\n",
        "    args=training_args,\n",
        "    data_collator=data_collator,\n",
        "    train_dataset=train_dataset,\n",
        "    eval_dataset=test_dataset,\n",
        ")\n"
      ],
      "metadata": {
        "execution": {
          "iopub.status.busy": "2024-03-22T07:10:12.561184Z",
          "iopub.execute_input": "2024-03-22T07:10:12.561654Z",
          "iopub.status.idle": "2024-03-22T07:10:12.718974Z",
          "shell.execute_reply.started": "2024-03-22T07:10:12.561624Z",
          "shell.execute_reply": "2024-03-22T07:10:12.718040Z"
        },
        "trusted": true,
        "id": "RuUpBzdR8TIG",
        "outputId": "7a50e6d1-07ad-433e-f709-6609849abaed"
      },
      "execution_count": null,
      "outputs": [
        {
          "name": "stdout",
          "text": "Train DataFrame length : 23,Test DataFrame length : 2\n",
          "output_type": "stream"
        }
      ]
    },
    {
      "cell_type": "code",
      "source": [
        "print(trainer)"
      ],
      "metadata": {
        "execution": {
          "iopub.status.busy": "2024-03-22T06:38:01.967557Z",
          "iopub.execute_input": "2024-03-22T06:38:01.967894Z",
          "iopub.status.idle": "2024-03-22T06:38:01.974395Z",
          "shell.execute_reply.started": "2024-03-22T06:38:01.967865Z",
          "shell.execute_reply": "2024-03-22T06:38:01.973415Z"
        },
        "trusted": true,
        "id": "jFgfcdTx8TIG",
        "outputId": "0e46e7ab-1398-414d-8668-22cf4f231696"
      },
      "execution_count": null,
      "outputs": [
        {
          "name": "stdout",
          "text": "<transformers.trainer_seq2seq.Seq2SeqTrainer object at 0x7c07f0623a30>\n",
          "output_type": "stream"
        }
      ]
    },
    {
      "cell_type": "code",
      "source": [
        "# 모델 학습 진행\n",
        "try:\n",
        "    trainer.train()\n",
        "except Exception as e:\n",
        "    print(f\"Failed to train model caused by {e}\")\n"
      ],
      "metadata": {
        "execution": {
          "iopub.status.busy": "2024-03-22T07:10:14.646072Z",
          "iopub.execute_input": "2024-03-22T07:10:14.646949Z",
          "iopub.status.idle": "2024-03-22T07:10:29.290712Z",
          "shell.execute_reply.started": "2024-03-22T07:10:14.646917Z",
          "shell.execute_reply": "2024-03-22T07:10:29.289697Z"
        },
        "trusted": true,
        "id": "xUD5ziPE8TIG",
        "outputId": "c74652ee-9f61-4030-965d-6fb821b39e71"
      },
      "execution_count": null,
      "outputs": [
        {
          "output_type": "display_data",
          "data": {
            "text/plain": "<IPython.core.display.HTML object>",
            "text/html": "\n    <div>\n      \n      <progress value='20' max='20' style='width:300px; height:20px; vertical-align: middle;'></progress>\n      [20/20 00:13, Epoch 20/20]\n    </div>\n    <table border=\"1\" class=\"dataframe\">\n  <thead>\n <tr style=\"text-align: left;\">\n      <th>Step</th>\n      <th>Training Loss</th>\n      <th>Validation Loss</th>\n    </tr>\n  </thead>\n  <tbody>\n    <tr>\n      <td>5</td>\n      <td>No log</td>\n      <td>6.862717</td>\n    </tr>\n    <tr>\n      <td>10</td>\n      <td>No log</td>\n      <td>6.115303</td>\n    </tr>\n    <tr>\n      <td>15</td>\n      <td>No log</td>\n      <td>6.396122</td>\n    </tr>\n    <tr>\n      <td>20</td>\n      <td>No log</td>\n      <td>6.634148</td>\n    </tr>\n  </tbody>\n</table><p>"
          },
          "metadata": {}
        },
        {
          "name": "stderr",
          "text": "Some non-default generation parameters are set in the model config. These should go into a GenerationConfig file (https://huggingface.co/docs/transformers/generation_strategies#save-a-custom-decoding-strategy-with-your-model) instead. This warning will be raised to an exception in v4.41.\nNon-default generation parameters: {'forced_eos_token_id': 1}\nSome non-default generation parameters are set in the model config. These should go into a GenerationConfig file (https://huggingface.co/docs/transformers/generation_strategies#save-a-custom-decoding-strategy-with-your-model) instead. This warning will be raised to an exception in v4.41.\nNon-default generation parameters: {'forced_eos_token_id': 1}\nSome non-default generation parameters are set in the model config. These should go into a GenerationConfig file (https://huggingface.co/docs/transformers/generation_strategies#save-a-custom-decoding-strategy-with-your-model) instead. This warning will be raised to an exception in v4.41.\nNon-default generation parameters: {'forced_eos_token_id': 1}\nSome non-default generation parameters are set in the model config. These should go into a GenerationConfig file (https://huggingface.co/docs/transformers/generation_strategies#save-a-custom-decoding-strategy-with-your-model) instead. This warning will be raised to an exception in v4.41.\nNon-default generation parameters: {'forced_eos_token_id': 1}\n",
          "output_type": "stream"
        }
      ]
    },
    {
      "cell_type": "code",
      "source": [
        "try:\n",
        "    trainer.save_model(model_path)\n",
        "    print(\"Model saved successfully.\")\n",
        "except Exception as e:\n",
        "    print(f\"Failed to save model caused by {e}\")"
      ],
      "metadata": {
        "execution": {
          "iopub.status.busy": "2024-03-22T06:53:19.892889Z",
          "iopub.execute_input": "2024-03-22T06:53:19.893944Z",
          "iopub.status.idle": "2024-03-22T06:53:20.909879Z",
          "shell.execute_reply.started": "2024-03-22T06:53:19.893892Z",
          "shell.execute_reply": "2024-03-22T06:53:20.908811Z"
        },
        "trusted": true,
        "id": "6jjThSdH8TIG",
        "outputId": "4a37291f-f854-4a7b-b826-34e94d92826a"
      },
      "execution_count": null,
      "outputs": [
        {
          "name": "stderr",
          "text": "Some non-default generation parameters are set in the model config. These should go into a GenerationConfig file (https://huggingface.co/docs/transformers/generation_strategies#save-a-custom-decoding-strategy-with-your-model) instead. This warning will be raised to an exception in v4.41.\nNon-default generation parameters: {'forced_eos_token_id': 1}\n",
          "output_type": "stream"
        },
        {
          "name": "stdout",
          "text": "Model saved successfully.\n",
          "output_type": "stream"
        }
      ]
    },
    {
      "cell_type": "markdown",
      "source": [
        "## Test (Validation)\n",
        "\n",
        "AI hub에 있는 텍스트 데이터에는 테스트용(라벨 없는거)이 따로 없긴 하다.\n",
        "그래서 이전에 그냥 trainset에서 8:2로 split시켜서 validation용으로 퉁치긴 했지만\n",
        "일단 나중에 오디오 -> 텍스트(STT)실행하고 나서 어차피 데이터는 바꿔서 껴야되기 때문에 그때 validation도 상황에 맞게 데이터 변경해야함\n"
      ],
      "metadata": {
        "id": "KJA7y5-j8TIG"
      }
    },
    {
      "cell_type": "code",
      "source": [
        "from transformers import pipeline\n",
        "\n",
        "nlg_pipeline=pipeline('text2text-generation',model=model_path,tokenizer=model_name)"
      ],
      "metadata": {
        "execution": {
          "iopub.status.busy": "2024-03-22T06:53:21.731506Z",
          "iopub.execute_input": "2024-03-22T06:53:21.732226Z",
          "iopub.status.idle": "2024-03-22T06:53:22.742029Z",
          "shell.execute_reply.started": "2024-03-22T06:53:21.732182Z",
          "shell.execute_reply": "2024-03-22T06:53:22.740788Z"
        },
        "trusted": true,
        "id": "xU4EYKkD8TIG",
        "outputId": "6d90bf5f-28b8-48b9-a016-82cf66f0f944"
      },
      "execution_count": null,
      "outputs": [
        {
          "name": "stderr",
          "text": "You passed along `num_labels=3` with an incompatible id to label map: {'0': 'NEGATIVE', '1': 'POSITIVE'}. The number of labels wil be overwritten to 2.\nYou passed along `num_labels=3` with an incompatible id to label map: {'0': 'NEGATIVE', '1': 'POSITIVE'}. The number of labels wil be overwritten to 2.\nYou passed along `num_labels=3` with an incompatible id to label map: {'0': 'NEGATIVE', '1': 'POSITIVE'}. The number of labels wil be overwritten to 2.\nYou passed along `num_labels=3` with an incompatible id to label map: {'0': 'NEGATIVE', '1': 'POSITIVE'}. The number of labels wil be overwritten to 2.\n",
          "output_type": "stream"
        }
      ]
    },
    {
      "cell_type": "code",
      "source": [
        "def generate_text(pipe, text, num_return_sequences, max_length):\n",
        "    target_style_name = \"표준어\"\n",
        "    text = f\"{target_style_name} 말투로 변환:{text}\"\n",
        "    out = pipe(text, num_return_sequences=num_return_sequences, max_length=max_length)\n",
        "    #num_return_sequences의 값에 따라서 반환되는 텍스트의 개수가 바뀐다. 만약 3으로 지정했다면 길이가 3인 리스트에 담겨서 값이 반환될 것임!\n",
        "    return [x['generated_text'] for x in out]\n",
        "\n",
        "\n",
        "print(\"Write 'q' to exit\")\n",
        "while True:\n",
        "    src_text=input(\"Dialect to translate(입력받을 사투리) : \")\n",
        "    if src_text == 'q':\n",
        "        break\n",
        "    target_text_ko=generate_text(nlg_pipeline,src_text,num_return_sequences=1,max_length=64)[0]\n",
        "    print(f\"Translated Standard (표준어로 출력): {target_text_ko}\")"
      ],
      "metadata": {
        "execution": {
          "iopub.status.busy": "2024-03-22T06:53:23.714501Z",
          "iopub.execute_input": "2024-03-22T06:53:23.715213Z",
          "iopub.status.idle": "2024-03-22T06:53:43.974263Z",
          "shell.execute_reply.started": "2024-03-22T06:53:23.715164Z",
          "shell.execute_reply": "2024-03-22T06:53:43.973264Z"
        },
        "trusted": true,
        "id": "KyvI6tAm8TIH",
        "outputId": "b5d97aff-922c-4960-cfc0-e0b632a68c46"
      },
      "execution_count": null,
      "outputs": [
        {
          "name": "stdout",
          "text": "Write 'q' to exit\n",
          "output_type": "stream"
        },
        {
          "output_type": "stream",
          "name": "stdin",
          "text": "Dialect to translate(입력받을 사투리) :  밥 많이 뭇나\n"
        },
        {
          "name": "stdout",
          "text": "Translated Standard (표준어로 출력): 조금 더 게 조금 더 기다려\n",
          "output_type": "stream"
        },
        {
          "output_type": "stream",
          "name": "stdin",
          "text": "Dialect to translate(입력받을 사투리) :  머라카노\n"
        },
        {
          "name": "stdout",
          "text": "Translated Standard (표준어로 출력): 조금 더 게 뭐 조금\n",
          "output_type": "stream"
        },
        {
          "output_type": "stream",
          "name": "stdin",
          "text": "Dialect to translate(입력받을 사투리) :  코로나 땜에 쫌 그렇긴했었지\n"
        },
        {
          "name": "stdout",
          "text": "Translated Standard (표준어로 출력): 조금 더 게요.\n",
          "output_type": "stream"
        },
        {
          "output_type": "stream",
          "name": "stdin",
          "text": "Dialect to translate(입력받을 사투리) :  q\n"
        }
      ]
    }
  ]
}