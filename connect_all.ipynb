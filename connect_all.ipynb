{
  "cells": [
    {
      "cell_type": "markdown",
      "metadata": {
        "id": "view-in-github",
        "colab_type": "text"
      },
      "source": [
        "<a href=\"https://colab.research.google.com/github/chaecheche/24w_audio/blob/main/connect_all.ipynb\" target=\"_parent\"><img src=\"https://colab.research.google.com/assets/colab-badge.svg\" alt=\"Open In Colab\"/></a>"
      ]
    },
    {
      "cell_type": "markdown",
      "metadata": {
        "id": "3bddWDwA95dd"
      },
      "source": [
        "## Prerequisties"
      ]
    },
    {
      "cell_type": "code",
      "execution_count": null,
      "metadata": {
        "colab": {
          "base_uri": "https://localhost:8080/"
        },
        "id": "FumT6ipIOoKW",
        "outputId": "d986e531-5f30-48f2-e3dc-919e33b38aa7"
      },
      "outputs": [
        {
          "name": "stdout",
          "output_type": "stream",
          "text": [
            "Mounted at /content/drive\n"
          ]
        }
      ],
      "source": [
        "from google.colab import drive\n",
        "drive.mount('/content/drive', force_remount = True)"
      ]
    },
    {
      "cell_type": "code",
      "execution_count": null,
      "metadata": {
        "colab": {
          "base_uri": "https://localhost:8080/",
          "height": 479
        },
        "id": "CSqQQcW7nfrs",
        "outputId": "5ced6e30-516f-4ae1-ea91-eee1cfb75a7c"
      },
      "outputs": [
        {
          "name": "stdout",
          "output_type": "stream",
          "text": [
            "Collecting hydra-core\n",
            "  Downloading hydra_core-1.3.2-py3-none-any.whl (154 kB)\n",
            "\u001b[2K     \u001b[90m━━━━━━━━━━━━━━━━━━━━━━━━━━━━━━━━━━━━━━━━\u001b[0m \u001b[32m154.5/154.5 kB\u001b[0m \u001b[31m4.4 MB/s\u001b[0m eta \u001b[36m0:00:00\u001b[0m\n",
            "\u001b[?25hCollecting omegaconf<2.4,>=2.2 (from hydra-core)\n",
            "  Downloading omegaconf-2.3.0-py3-none-any.whl (79 kB)\n",
            "\u001b[2K     \u001b[90m━━━━━━━━━━━━━━━━━━━━━━━━━━━━━━━━━━━━━━━━\u001b[0m \u001b[32m79.5/79.5 kB\u001b[0m \u001b[31m6.1 MB/s\u001b[0m eta \u001b[36m0:00:00\u001b[0m\n",
            "\u001b[?25hCollecting antlr4-python3-runtime==4.9.* (from hydra-core)\n",
            "  Downloading antlr4-python3-runtime-4.9.3.tar.gz (117 kB)\n",
            "\u001b[2K     \u001b[90m━━━━━━━━━━━━━━━━━━━━━━━━━━━━━━━━━━━━━━━━\u001b[0m \u001b[32m117.0/117.0 kB\u001b[0m \u001b[31m7.8 MB/s\u001b[0m eta \u001b[36m0:00:00\u001b[0m\n",
            "\u001b[?25h  Preparing metadata (setup.py) ... \u001b[?25l\u001b[?25hdone\n",
            "Requirement already satisfied: packaging in /usr/local/lib/python3.10/dist-packages (from hydra-core) (24.0)\n",
            "Requirement already satisfied: PyYAML>=5.1.0 in /usr/local/lib/python3.10/dist-packages (from omegaconf<2.4,>=2.2->hydra-core) (6.0.1)\n",
            "Building wheels for collected packages: antlr4-python3-runtime\n",
            "  Building wheel for antlr4-python3-runtime (setup.py) ... \u001b[?25l\u001b[?25hdone\n",
            "  Created wheel for antlr4-python3-runtime: filename=antlr4_python3_runtime-4.9.3-py3-none-any.whl size=144554 sha256=31b2480bb8ef4686ed2f343aac0fba9c3c65c9f38bd0afdf6f8d5922ac4e832c\n",
            "  Stored in directory: /root/.cache/pip/wheels/12/93/dd/1f6a127edc45659556564c5730f6d4e300888f4bca2d4c5a88\n",
            "Successfully built antlr4-python3-runtime\n",
            "Installing collected packages: antlr4-python3-runtime, omegaconf, hydra-core\n",
            "Successfully installed antlr4-python3-runtime-4.9.3 hydra-core-1.3.2 omegaconf-2.3.0\n"
          ]
        },
        {
          "data": {
            "application/vnd.colab-display-data+json": {
              "id": "df374a7e8c374da7807efc1486f771e6",
              "pip_warning": {
                "packages": [
                  "pydevd_plugins"
                ]
              }
            }
          },
          "metadata": {},
          "output_type": "display_data"
        },
        {
          "data": {
            "application/vnd.google.colaboratory.intrinsic+json": {
              "type": "string"
            },
            "text/plain": [
              "\"! wget https://repo.anaconda.com/miniconda/Miniconda3-py37_4.9.2-Linux-x86_64.sh\\n! chmod +x Miniconda3-py37_4.9.2-Linux-x86_64.sh\\n! bash ./Miniconda3-py37_4.9.2-Linux-x86_64.sh -b -f -p /usr/local\\nimport sys\\nsys.path.append('/usr/local/lib/python3.7/site-packages/')\\n!which conda  # should return /usr/local/bin/conda\\n!conda --version\""
            ]
          },
          "execution_count": 22,
          "metadata": {},
          "output_type": "execute_result"
        }
      ],
      "source": [
        "#!pip install warp_rnnt\n",
        "#!pip install torchaudio==0.6.0\n",
        "#!pip install hydra-core --upgrade\n",
        "\n",
        "################################################################################\n",
        "# INSTALL CONDA ON GOOGLE COLAB\n",
        "################################################################################\n",
        "'''! wget https://repo.anaconda.com/miniconda/Miniconda3-py37_4.9.2-Linux-x86_64.sh\n",
        "! chmod +x Miniconda3-py37_4.9.2-Linux-x86_64.sh\n",
        "! bash ./Miniconda3-py37_4.9.2-Linux-x86_64.sh -b -f -p /usr/local\n",
        "import sys\n",
        "sys.path.append('/usr/local/lib/python3.7/site-packages/')\n",
        "!which conda  # should return /usr/local/bin/conda\n",
        "!conda --version'''"
      ]
    },
    {
      "cell_type": "code",
      "execution_count": null,
      "metadata": {
        "colab": {
          "base_uri": "https://localhost:8080/",
          "height": 35
        },
        "id": "jXFyn4lVKu2U",
        "outputId": "155c9854-7dcd-442b-ff74-913663538b95"
      },
      "outputs": [
        {
          "data": {
            "application/vnd.google.colaboratory.intrinsic+json": {
              "type": "string"
            },
            "text/plain": [
              "'/content'"
            ]
          },
          "execution_count": 18,
          "metadata": {},
          "output_type": "execute_result"
        }
      ],
      "source": [
        "pwd"
      ]
    },
    {
      "cell_type": "code",
      "execution_count": null,
      "metadata": {
        "colab": {
          "base_uri": "https://localhost:8080/"
        },
        "id": "TlziuQ2b2cJ_",
        "outputId": "f694f2e1-eb20-42c5-d111-5f3c22914308"
      },
      "outputs": [
        {
          "name": "stdout",
          "output_type": "stream",
          "text": [
            "Requirement already satisfied: tqdm in /usr/local/lib/python3.10/dist-packages (from -r /content/drive/MyDrive/kospeech/dataset/kspon/requirements.txt (line 1)) (4.66.2)\n",
            "Collecting gluonnlp (from -r /content/drive/MyDrive/kospeech/dataset/kspon/requirements.txt (line 2))\n",
            "  Downloading gluonnlp-0.10.0.tar.gz (344 kB)\n",
            "\u001b[2K     \u001b[90m━━━━━━━━━━━━━━━━━━━━━━━━━━━━━━━━━━━━━━━━\u001b[0m \u001b[32m344.5/344.5 kB\u001b[0m \u001b[31m7.2 MB/s\u001b[0m eta \u001b[36m0:00:00\u001b[0m\n",
            "\u001b[?25h  Preparing metadata (setup.py) ... \u001b[?25l\u001b[?25hdone\n",
            "Requirement already satisfied: sentencepiece in /usr/local/lib/python3.10/dist-packages (from -r /content/drive/MyDrive/kospeech/dataset/kspon/requirements.txt (line 3)) (0.1.99)\n",
            "Collecting hgtk (from -r /content/drive/MyDrive/kospeech/dataset/kspon/requirements.txt (line 4))\n",
            "  Downloading hgtk-0.2.1-py2.py3-none-any.whl (12 kB)\n",
            "Requirement already satisfied: pandas in /usr/local/lib/python3.10/dist-packages (from -r /content/drive/MyDrive/kospeech/dataset/kspon/requirements.txt (line 5)) (1.5.3)\n",
            "Requirement already satisfied: numpy>=1.16.0 in /usr/local/lib/python3.10/dist-packages (from gluonnlp->-r /content/drive/MyDrive/kospeech/dataset/kspon/requirements.txt (line 2)) (1.25.2)\n",
            "Requirement already satisfied: cython in /usr/local/lib/python3.10/dist-packages (from gluonnlp->-r /content/drive/MyDrive/kospeech/dataset/kspon/requirements.txt (line 2)) (3.0.9)\n",
            "Requirement already satisfied: packaging in /usr/local/lib/python3.10/dist-packages (from gluonnlp->-r /content/drive/MyDrive/kospeech/dataset/kspon/requirements.txt (line 2)) (24.0)\n",
            "Requirement already satisfied: python-dateutil>=2.8.1 in /usr/local/lib/python3.10/dist-packages (from pandas->-r /content/drive/MyDrive/kospeech/dataset/kspon/requirements.txt (line 5)) (2.8.2)\n",
            "Requirement already satisfied: pytz>=2020.1 in /usr/local/lib/python3.10/dist-packages (from pandas->-r /content/drive/MyDrive/kospeech/dataset/kspon/requirements.txt (line 5)) (2023.4)\n",
            "Requirement already satisfied: six>=1.5 in /usr/local/lib/python3.10/dist-packages (from python-dateutil>=2.8.1->pandas->-r /content/drive/MyDrive/kospeech/dataset/kspon/requirements.txt (line 5)) (1.16.0)\n",
            "Building wheels for collected packages: gluonnlp\n",
            "  Building wheel for gluonnlp (setup.py) ... \u001b[?25l\u001b[?25hdone\n",
            "  Created wheel for gluonnlp: filename=gluonnlp-0.10.0-cp310-cp310-linux_x86_64.whl size=661762 sha256=1d8d6e19ec3f23aa343491eeba52810e5a84fbc72c43b8a18088d5b01c918fbf\n",
            "  Stored in directory: /root/.cache/pip/wheels/1a/1e/0d/99f55911d90f2b95b9f7c176d5813ef3622894a4b30fde6bd3\n",
            "Successfully built gluonnlp\n",
            "Installing collected packages: hgtk, gluonnlp\n",
            "Successfully installed gluonnlp-0.10.0 hgtk-0.2.1\n"
          ]
        }
      ],
      "source": [
        "!pip install -r /content/drive/MyDrive/kospeech/dataset/kspon/requirements.txt"
      ]
    },
    {
      "cell_type": "markdown",
      "metadata": {
        "id": "CDy0Ya68-LRu"
      },
      "source": [
        "## Deep Speech2를 이용한 Ko-SPEECH 학습"
      ]
    },
    {
      "cell_type": "markdown",
      "metadata": {
        "id": "oAu0nnIwK6ki"
      },
      "source": [
        "### 학습 준비\n",
        "- 전처리 및 단어 사전 준비\n",
        "- 전사 자료의 벡터화\n",
        "-> 결론적으로 학습을 위해서 transscript.txt(대본같은 역할)를 생성해야함\n",
        "\n",
        "필요한 데이터는 크게 음성 데이터(wav, pcm 등)와 해당 음성 파일의 전사 데이터가 필요"
      ]
    },
    {
      "cell_type": "code",
      "execution_count": null,
      "metadata": {
        "id": "NarwcAj7YZPP"
      },
      "outputs": [],
      "source": [
        "# 압축해제\n",
        "#!unzip -qq \"/content/drive/MyDrive/한국어_방언_발화(경상도)/Training/[라벨]경상도_학습데이터_1.zip\" -d \"/content/drive/MyDrive/한국어_방언_발화(경상도)/unzip\"\n",
        "\n",
        "!unzip -qq \"/content/drive/MyDrive/kospeechdata/KsponSpeechall/KsponSpeech_01.zip\""
      ]
    },
    {
      "cell_type": "code",
      "execution_count": null,
      "metadata": {
        "colab": {
          "base_uri": "https://localhost:8080/"
        },
        "id": "OKrSULJmd-r7",
        "outputId": "96a4a1ae-dc23-4484-e736-8b9ee111c8f1"
      },
      "outputs": [
        {
          "name": "stdout",
          "output_type": "stream",
          "text": [
            "요거\n"
          ]
        }
      ],
      "source": [
        "import re\n",
        "\n",
        "def rule(x):\n",
        "    # 괄호\n",
        "    a = re.compile(r'\\([^)]*\\)')\n",
        "    # 문장 부호\n",
        "    b = re.compile('[^가-힣 ]')\n",
        "    x = re.sub(pattern=a, repl='', string= x)\n",
        "    x = re.sub(pattern=b, repl='', string= x)\n",
        "    return x\n",
        "\n",
        "# 예제 문장\n",
        "x = \"&company-name2&요거.\"\n",
        "\n",
        "# 처리 결과 출력\n",
        "result = rule(x)\n",
        "print(result)"
      ]
    },
    {
      "cell_type": "markdown",
      "metadata": {
        "id": "63J3AbG6h-HA"
      },
      "source": [
        "## Preprocessing!"
      ]
    },
    {
      "cell_type": "markdown",
      "metadata": {
        "id": "9LLJ6VDdeGms"
      },
      "source": []
    },
    {
      "cell_type": "code",
      "execution_count": null,
      "metadata": {
        "colab": {
          "base_uri": "https://localhost:8080/"
        },
        "id": "ZGadJgXhkcVx",
        "outputId": "cad534f7-c42a-4830-b8a3-b7d7190233eb"
      },
      "outputs": [
        {
          "name": "stdout",
          "output_type": "stream",
          "text": [
            "Number of subfolders: 1018\n"
          ]
        }
      ],
      "source": [
        "# 데이터 갯수(큰 폴더 개수) 구하는 코드\n",
        "import os\n",
        "\n",
        "def count_subfolders(directory):\n",
        "    if not os.path.isdir(directory):\n",
        "        return \"Invalid directory path\"\n",
        "\n",
        "    subfolders = [f for f in os.listdir(directory) if os.path.isdir(os.path.join(directory, f))]\n",
        "    return len(subfolders)\n",
        "\n",
        "# Example usage:\n",
        "directory_path = '/content/drive/MyDrive/DKSR__data_share/Training/train_extracted'\n",
        "print(\"Number of subfolders:\", count_subfolders(directory_path))"
      ]
    },
    {
      "cell_type": "code",
      "execution_count": null,
      "metadata": {
        "colab": {
          "base_uri": "https://localhost:8080/"
        },
        "id": "bi7tiiQOy1cO",
        "outputId": "0a4986c0-f28b-4b1a-b6a5-8d4f43c553e6"
      },
      "outputs": [
        {
          "name": "stdout",
          "output_type": "stream",
          "text": [
            "The file has 262106 lines.\n"
          ]
        }
      ],
      "source": [
        "#데이터 개수 구하는 코드\n",
        "def count_lines_in_file(file_path):\n",
        "    with open(file_path, 'r', encoding='utf-8') as file:\n",
        "        lines = file.readlines()\n",
        "        return len(lines)\n",
        "\n",
        "file_path = '/content/drive/MyDrive/kospeech/test/transcripts.txt'  # 여기에 파일 경로를 입력하세요.\n",
        "line_count = count_lines_in_file(file_path)\n",
        "print(f\"The file has {line_count} lines.\")"
      ]
    },
    {
      "cell_type": "markdown",
      "metadata": {
        "id": "5y3hUaLGzdKH"
      },
      "source": [
        "## 잠깐 보류"
      ]
    },
    {
      "cell_type": "code",
      "execution_count": null,
      "metadata": {
        "id": "ARbZ0jlTG1Jo"
      },
      "outputs": [],
      "source": [
        "# permission denied 뜨는 거 없애기\n",
        "\n",
        "!chmod +x /content/drive/MyDrive/kospeech/dataset/kspon/preprocess.sh"
      ]
    },
    {
      "cell_type": "code",
      "execution_count": null,
      "metadata": {
        "colab": {
          "base_uri": "https://localhost:8080/"
        },
        "id": "q8XlmT8ibwiH",
        "outputId": "32f14a53-3ddd-468a-98e4-d2b9baa9b94d"
      },
      "outputs": [
        {
          "name": "stdout",
          "output_type": "stream",
          "text": [
            "Pre-process Our Dataset..\n",
            "Dataset Path : /content/drive/MyDrive/validation_made\n",
            "Vocab Destination : /content/drive/MyDrive/kospeech/dataset\n",
            "Save Path : ./data\n",
            "Output-Unit : character\n",
            "Preprocess Mode : phonetic\n",
            "preprocess started..\n",
            "/content/drive/MyDrive/validation_made/DKSR20002370/DKSR20002370_1_1_120.txt\n",
            "Traceback (most recent call last):\n",
            "  File \"/content/drive/MyDrive/kospeech/dataset/kspon/main.py\", line 80, in <module>\n",
            "    main()\n",
            "  File \"/content/drive/MyDrive/kospeech/dataset/kspon/main.py\", line 62, in main\n",
            "    audio_paths, transcripts = preprocess(opt.dataset_path, opt.preprocess_mode)\n",
            "  File \"/content/drive/MyDrive/kospeech/dataset/kspon/preprocess/preprocess.py\", line 112, in preprocess\n",
            "    for jdx, file in enumerate(os.listdir(path)):\n",
            "NotADirectoryError: [Errno 20] Not a directory: '/content/drive/MyDrive/validation_made/DKSR20002370/DKSR20002370_1_1_120.txt'\n"
          ]
        }
      ],
      "source": [
        "# 초기에 한번 실행했으면 이제 안돌려도 됨\n",
        "! /content/drive/MyDrive/kospeech/dataset/kspon/preprocess.sh"
      ]
    },
    {
      "cell_type": "markdown",
      "metadata": {
        "id": "lrhtyowasnIb"
      },
      "source": [
        "3시간 30분 넘게 걸림...."
      ]
    },
    {
      "cell_type": "code",
      "execution_count": null,
      "metadata": {
        "id": "B8uNCQ_SYrWK"
      },
      "outputs": [],
      "source": []
    },
    {
      "cell_type": "code",
      "execution_count": null,
      "metadata": {
        "id": "Zh4JAERbTbdH"
      },
      "outputs": [],
      "source": []
    },
    {
      "cell_type": "code",
      "execution_count": null,
      "metadata": {
        "id": "56SgJHfZvzsq"
      },
      "outputs": [],
      "source": []
    },
    {
      "cell_type": "code",
      "execution_count": null,
      "metadata": {
        "id": "HxXfRM5PODcm"
      },
      "outputs": [],
      "source": []
    },
    {
      "cell_type": "markdown",
      "metadata": {
        "id": "7BdPBZPYiXq4"
      },
      "source": [
        "## Training(학습)"
      ]
    },
    {
      "cell_type": "code",
      "execution_count": null,
      "metadata": {
        "id": "ur7MW80lUuDd"
      },
      "outputs": [],
      "source": [
        "#하하하하하하하22"
      ]
    },
    {
      "cell_type": "code",
      "execution_count": null,
      "metadata": {
        "colab": {
          "base_uri": "https://localhost:8080/",
          "height": 583
        },
        "id": "I6ZqmWKiY7lu",
        "outputId": "969dd786-0da9-42d1-af3a-5b026659e9a0"
      },
      "outputs": [
        {
          "name": "stdout",
          "output_type": "stream",
          "text": [
            "Collecting hydra-core\n",
            "  Downloading hydra_core-1.3.2-py3-none-any.whl (154 kB)\n",
            "\u001b[2K     \u001b[90m━━━━━━━━━━━━━━━━━━━━━━━━━━━━━━━━━━━━━━━━\u001b[0m \u001b[32m154.5/154.5 kB\u001b[0m \u001b[31m4.5 MB/s\u001b[0m eta \u001b[36m0:00:00\u001b[0m\n",
            "\u001b[?25hCollecting omegaconf<2.4,>=2.2 (from hydra-core)\n",
            "  Downloading omegaconf-2.3.0-py3-none-any.whl (79 kB)\n",
            "\u001b[2K     \u001b[90m━━━━━━━━━━━━━━━━━━━━━━━━━━━━━━━━━━━━━━━━\u001b[0m \u001b[32m79.5/79.5 kB\u001b[0m \u001b[31m11.7 MB/s\u001b[0m eta \u001b[36m0:00:00\u001b[0m\n",
            "\u001b[?25hCollecting antlr4-python3-runtime==4.9.* (from hydra-core)\n",
            "  Downloading antlr4-python3-runtime-4.9.3.tar.gz (117 kB)\n",
            "\u001b[2K     \u001b[90m━━━━━━━━━━━━━━━━━━━━━━━━━━━━━━━━━━━━━━━━\u001b[0m \u001b[32m117.0/117.0 kB\u001b[0m \u001b[31m13.2 MB/s\u001b[0m eta \u001b[36m0:00:00\u001b[0m\n",
            "\u001b[?25h  Preparing metadata (setup.py) ... \u001b[?25l\u001b[?25hdone\n",
            "Requirement already satisfied: packaging in /usr/local/lib/python3.10/dist-packages (from hydra-core) (24.0)\n",
            "Requirement already satisfied: PyYAML>=5.1.0 in /usr/local/lib/python3.10/dist-packages (from omegaconf<2.4,>=2.2->hydra-core) (6.0.1)\n",
            "Building wheels for collected packages: antlr4-python3-runtime\n",
            "  Building wheel for antlr4-python3-runtime (setup.py) ... \u001b[?25l\u001b[?25hdone\n",
            "  Created wheel for antlr4-python3-runtime: filename=antlr4_python3_runtime-4.9.3-py3-none-any.whl size=144554 sha256=b42b2469c67703c9f90e5cb1977efdcd2120f4e36a53b6466c6e3f4af159be4d\n",
            "  Stored in directory: /root/.cache/pip/wheels/12/93/dd/1f6a127edc45659556564c5730f6d4e300888f4bca2d4c5a88\n",
            "Successfully built antlr4-python3-runtime\n",
            "Installing collected packages: antlr4-python3-runtime, omegaconf, hydra-core\n",
            "Successfully installed antlr4-python3-runtime-4.9.3 hydra-core-1.3.2 omegaconf-2.3.0\n"
          ]
        },
        {
          "data": {
            "application/vnd.colab-display-data+json": {
              "id": "93a3e5c8ee0c432bbc5b93af58b80121",
              "pip_warning": {
                "packages": [
                  "pydevd_plugins"
                ]
              }
            }
          },
          "metadata": {},
          "output_type": "display_data"
        },
        {
          "name": "stdout",
          "output_type": "stream",
          "text": [
            "Collecting Levenshtein\n",
            "  Downloading Levenshtein-0.25.0-cp310-cp310-manylinux_2_17_x86_64.manylinux2014_x86_64.whl (177 kB)\n",
            "\u001b[2K     \u001b[90m━━━━━━━━━━━━━━━━━━━━━━━━━━━━━━━━━━━━━━━━\u001b[0m \u001b[32m177.4/177.4 kB\u001b[0m \u001b[31m4.6 MB/s\u001b[0m eta \u001b[36m0:00:00\u001b[0m\n",
            "\u001b[?25hCollecting rapidfuzz<4.0.0,>=3.1.0 (from Levenshtein)\n",
            "  Downloading rapidfuzz-3.7.0-cp310-cp310-manylinux_2_17_x86_64.manylinux2014_x86_64.whl (3.4 MB)\n",
            "\u001b[2K     \u001b[90m━━━━━━━━━━━━━━━━━━━━━━━━━━━━━━━━━━━━━━━━\u001b[0m \u001b[32m3.4/3.4 MB\u001b[0m \u001b[31m25.4 MB/s\u001b[0m eta \u001b[36m0:00:00\u001b[0m\n",
            "\u001b[?25hInstalling collected packages: rapidfuzz, Levenshtein\n",
            "Successfully installed Levenshtein-0.25.0 rapidfuzz-3.7.0\n"
          ]
        }
      ],
      "source": [
        "!pip install hydra-core --upgrade\n",
        "!pip install Levenshtein"
      ]
    },
    {
      "cell_type": "code",
      "execution_count": null,
      "metadata": {
        "id": "D6dBRd5_jISj"
      },
      "outputs": [],
      "source": []
    },
    {
      "cell_type": "code",
      "execution_count": null,
      "metadata": {
        "id": "S9fxddM73TTz"
      },
      "outputs": [],
      "source": [
        "!python /content/drive/MyDrive/kospeech/bin/main.py model=ds2 train=ds2_train train.dataset_path=\"/content/drive/MyDrive/DKSR__data_share/Training\""
      ]
    },
    {
      "cell_type": "markdown",
      "metadata": {
        "id": "5_0TKLhzvPPn"
      },
      "source": [
        "## Inference"
      ]
    },
    {
      "cell_type": "code",
      "execution_count": null,
      "metadata": {
        "id": "uBcro8NhyWeM"
      },
      "outputs": [],
      "source": [
        "# outputs경로를 옮기는 코드\n",
        "#!cp -rf outputs '/content/drive/MyDrive/'\n",
        "#trainer.train(resume_from_checkpoint=\"/content/drive/MyDrive/Colab Notebooks/outputs/checkpoint-1970\")"
      ]
    },
    {
      "cell_type": "code",
      "execution_count": null,
      "metadata": {
        "colab": {
          "base_uri": "https://localhost:8080/"
        },
        "id": "1G6yFJuwAOoe",
        "outputId": "90a9f037-bd50-49fd-83b5-95085a373e2d"
      },
      "outputs": [
        {
          "name": "stdout",
          "output_type": "stream",
          "text": [
            "Requirement already satisfied: omegaconf in /usr/local/lib/python3.10/dist-packages (2.3.0)\n",
            "Requirement already satisfied: antlr4-python3-runtime==4.9.* in /usr/local/lib/python3.10/dist-packages (from omegaconf) (4.9.3)\n",
            "Requirement already satisfied: PyYAML>=5.1.0 in /usr/local/lib/python3.10/dist-packages (from omegaconf) (6.0.1)\n"
          ]
        }
      ],
      "source": [
        "!pip install omegaconf"
      ]
    },
    {
      "cell_type": "code",
      "execution_count": null,
      "metadata": {
        "colab": {
          "base_uri": "https://localhost:8080/"
        },
        "id": "JTDPidmeBz1P",
        "outputId": "efa9465d-0945-4999-ec3a-180c6713466f"
      },
      "outputs": [
        {
          "name": "stdout",
          "output_type": "stream",
          "text": [
            "cpu\n"
          ]
        }
      ],
      "source": [
        "import torch\n",
        "device = torch.device(\"cuda\" if torch.cuda.is_available() else \"cpu\")\n",
        "print(device)"
      ]
    },
    {
      "cell_type": "code",
      "execution_count": null,
      "metadata": {
        "colab": {
          "base_uri": "https://localhost:8080/"
        },
        "id": "AzbxUdN4Ljfm",
        "outputId": "3a8dd0b6-c396-4072-c9d8-89e6d87dceef"
      },
      "outputs": [
        {
          "name": "stdout",
          "output_type": "stream",
          "text": [
            "그쎄 어렸을 때는진 짜렸을 때는 진짜 택도 없는 꿈들이 많다이가뭐눈에 모이면 다하고 싶고 이것도보고 싶고 저것도 하고 싶고 막\n"
          ]
        }
      ],
      "source": [
        "\n",
        "\n",
        "\n",
        "!python3 /content/drive/MyDrive/kospeech/bin/inference.py --model_path '/content/drive/MyDrive/kspon_checkpoint_models/outputs/2024_04_01/06-59-01/model.pt' --audio_path '/content/drive/MyDrive/DKSR__data_share/Training/train_extracted/DKSR20002401/DKSR20002401_1_1_2.wav' --device \"cpu\"\n",
        "\n",
        "#Output :음성인식 결과 문장이 나옵니다"
      ]
    },
    {
      "cell_type": "markdown",
      "metadata": {
        "id": "nNYzl4Kub1KO"
      },
      "source": [
        "## WER(Word Error Rate) 측정"
      ]
    },
    {
      "cell_type": "code",
      "execution_count": null,
      "metadata": {
        "id": "uWP8Hikxb0CH"
      },
      "outputs": [],
      "source": [
        "import Levenshtein as Lev\n",
        "\n",
        "def wer(ref, hyp ,debug=False):\n",
        "    r = ref.split()\n",
        "    h = hyp.split()\n",
        "    #costs will holds the costs, like in the Levenshtein distance algorithm\n",
        "    costs = [[0 for inner in range(len(h)+1)] for outer in range(len(r)+1)]\n",
        "    # backtrace will hold the operations we've done.\n",
        "    # so we could later backtrace, like the WER algorithm requires us to.\n",
        "    backtrace = [[0 for inner in range(len(h)+1)] for outer in range(len(r)+1)]\n",
        "\n",
        "    OP_OK = 0\n",
        "    OP_SUB = 1\n",
        "    OP_INS = 2\n",
        "    OP_DEL = 3\n",
        "\n",
        "    DEL_PENALTY=1 # Tact\n",
        "    INS_PENALTY=1 # Tact\n",
        "    SUB_PENALTY=1 # Tact\n",
        "    # First column represents the case where we achieve zero\n",
        "    # hypothesis words by deleting all reference words.\n",
        "    for i in range(1, len(r)+1):\n",
        "        costs[i][0] = DEL_PENALTY*i\n",
        "        backtrace[i][0] = OP_DEL\n",
        "\n",
        "    # First row represents the case where we achieve the hypothesis\n",
        "    # by inserting all hypothesis words into a zero-length reference.\n",
        "    for j in range(1, len(h) + 1):\n",
        "        costs[0][j] = INS_PENALTY * j\n",
        "        backtrace[0][j] = OP_INS\n",
        "\n",
        "    # computation\n",
        "    for i in range(1, len(r)+1):\n",
        "        for j in range(1, len(h)+1):\n",
        "            if r[i-1] == h[j-1]:\n",
        "                costs[i][j] = costs[i-1][j-1]\n",
        "                backtrace[i][j] = OP_OK\n",
        "            else:\n",
        "                substitutionCost = costs[i-1][j-1] + SUB_PENALTY # penalty is always 1\n",
        "                insertionCost    = costs[i][j-1] + INS_PENALTY   # penalty is always 1\n",
        "                deletionCost     = costs[i-1][j] + DEL_PENALTY   # penalty is always 1\n",
        "\n",
        "                costs[i][j] = min(substitutionCost, insertionCost, deletionCost)\n",
        "                if costs[i][j] == substitutionCost:\n",
        "                    backtrace[i][j] = OP_SUB\n",
        "                elif costs[i][j] == insertionCost:\n",
        "                    backtrace[i][j] = OP_INS\n",
        "                else:\n",
        "                    backtrace[i][j] = OP_DEL\n",
        "\n",
        "    # back trace though the best route:\n",
        "    i = len(r)\n",
        "    j = len(h)\n",
        "    numSub = 0\n",
        "    numDel = 0\n",
        "    numIns = 0\n",
        "    numCor = 0\n",
        "    if debug:\n",
        "        print(\"OP\\tREF\\tHYP\")\n",
        "        lines = []\n",
        "    while i > 0 or j > 0:\n",
        "        if backtrace[i][j] == OP_OK:\n",
        "            numCor += 1\n",
        "            i-=1\n",
        "            j-=1\n",
        "            if debug:\n",
        "                lines.append(\"OK\\t\" + r[i]+\"\\t\"+h[j])\n",
        "        elif backtrace[i][j] == OP_SUB:\n",
        "            numSub +=1\n",
        "            i-=1\n",
        "            j-=1\n",
        "            if debug:\n",
        "                lines.append(\"SUB\\t\" + r[i]+\"\\t\"+h[j])\n",
        "        elif backtrace[i][j] == OP_INS:\n",
        "            numIns += 1\n",
        "            j-=1\n",
        "            if debug:\n",
        "                lines.append(\"INS\\t\" + \"****\" + \"\\t\" + h[j])\n",
        "        elif backtrace[i][j] == OP_DEL:\n",
        "            numDel += 1\n",
        "            i-=1\n",
        "            if debug:\n",
        "                lines.append(\"DEL\\t\" + r[i]+\"\\t\"+\"****\")\n",
        "    if debug:\n",
        "        lines = reversed(lines)\n",
        "        for line in lines:\n",
        "            print(line)\n",
        "        print(\"Ncor \" + str(numCor))\n",
        "        print(\"Nsub \" + str(numSub))\n",
        "        print(\"Ndel \" + str(numDel))\n",
        "        print(\"Nins \" + str(numIns))\n",
        "    return numCor, numSub, numDel, numIns, (numSub + numDel + numIns) / (float) (len(r))\n",
        "\n",
        "\n",
        "def cer(ref, hyp):\n",
        "    ref = ref.replace(' ', '')\n",
        "    hyp = hyp.replace(' ', '')\n",
        "    dist = Lev.distance(hyp, ref)\n",
        "    length = len(ref)\n",
        "    return dist, length, dist/length"
      ]
    },
    {
      "cell_type": "code",
      "execution_count": null,
      "metadata": {
        "id": "HkdYDImVnY4H"
      },
      "outputs": [],
      "source": [
        "import os\n",
        "import glob\n",
        "import shutil\n",
        "# 검색할 디렉토리 경로 설정\n",
        "source_directory = '/content/drive/MyDrive/validation_made/DKSR20002370'\n",
        "\n",
        "# 새 폴더(이동할 디렉토리) 설정\n",
        "destination_directory =  '/content/drive/MyDrive/validation_made/DKSR20002370_only_wave'\n",
        "\n",
        "# 새 디렉토리 생성, 이미 존재하면 넘어감\n",
        "if not os.path.exists(destination_directory):\n",
        "    os.makedirs(destination_directory)\n",
        "\n",
        "# 해당 디렉토리와 모든 하위 디렉토리에서 .wav 파일 검색\n",
        "txt_files = glob.glob(f'{source_directory}/**/*.wav', recursive=True)\n",
        "\n",
        "# 각 .txt 파일 이동\n",
        "for file_path in txt_files:\n",
        "    try:\n",
        "        # 이동할 새 경로 생성\n",
        "        new_path = os.path.join(destination_directory, os.path.basename(file_path))\n",
        "\n",
        "        # 파일 이동\n",
        "        shutil.move(file_path, new_path)\n",
        "        print(f'Moved: {file_path} to {new_path}')\n",
        "    except OSError as e:\n",
        "        print(f\"Error moving {file_path} to {new_path}: {e.strerror}\")"
      ]
    },
    {
      "cell_type": "code",
      "execution_count": null,
      "metadata": {
        "colab": {
          "base_uri": "https://localhost:8080/"
        },
        "id": "zv0312fPdKRo",
        "outputId": "384e8383-124e-4dde-ce5c-57f1fa65fa79"
      },
      "outputs": [
        {
          "name": "stdout",
          "output_type": "stream",
          "text": [
            "299 files test starts...\n",
            "CER/WER caculation: True\n",
            "-> transcript: /content/drive/MyDrive/kospeech/data/transcripts.txt\n",
            "Output destination: /content/outputs\n",
            "Traceback (most recent call last):\n",
            "  File \"/content/drive/MyDrive/kospeech/bin/inference_wer.py\", line 87, in <module>\n",
            "    shutil.rmtree(dst_path)\n",
            "  File \"/usr/lib/python3.10/shutil.py\", line 725, in rmtree\n",
            "    _rmtree_safe_fd(fd, path, onerror)\n",
            "  File \"/usr/lib/python3.10/shutil.py\", line 633, in _rmtree_safe_fd\n",
            "    onerror(os.scandir, path, sys.exc_info())\n",
            "  File \"/usr/lib/python3.10/shutil.py\", line 629, in _rmtree_safe_fd\n",
            "    with os.scandir(topfd) as scandir_it:\n",
            "NotADirectoryError: [Errno 20] Not a directory: '/content/outputs/wer_results_2024_04_01_06-59-01.txt'\n"
          ]
        }
      ],
      "source": [
        "\n",
        "\n",
        "!python3 /content/drive/MyDrive/kospeech/bin/inference_wer.py --model_path '/content/drive/MyDrive/kspon_checkpoint_models/outputs/2024_04_01/06-59-01/model.pt' --audio_path '/content/drive/MyDrive/validation_made/DKSR20002370' --transcript_path '/content/drive/MyDrive/kospeech/data/transcripts.txt' --device \"cpu\"\n",
        "\n"
      ]
    },
    {
      "cell_type": "markdown",
      "metadata": {
        "id": "rOv2h-RHrwtZ"
      },
      "source": [
        "## Checkpoints\n",
        "Checkpoints are organized by experiments and timestamps as shown in the following file structure.\n",
        "\n",
        "#### outputs\n",
        "##### +-- YYYY_mm_dd\n",
        "##### |  +-- HH_MM_SS\n",
        "#####   |  +-- trainer_states.pt\n",
        "#####   |  +-- model.pt\n",
        "You can resume and load from checkpoints."
      ]
    },
    {
      "cell_type": "markdown",
      "metadata": {
        "id": "F-6kHRbf4-5J"
      },
      "source": [
        "# KO_BART"
      ]
    },
    {
      "cell_type": "code",
      "execution_count": null,
      "metadata": {
        "colab": {
          "base_uri": "https://localhost:8080/",
          "height": 478
        },
        "id": "zUKWH3Ws00mT",
        "outputId": "c0af2bdd-194d-42cb-d296-5cd12a7b0a7a"
      },
      "outputs": [
        {
          "ename": "OSError",
          "evalue": "Incorrect path_or_model_id: '/content/drive/MyDrive/saved_model'. Please provide either the path to a local folder or the repo_id of a model on the Hub.",
          "output_type": "error",
          "traceback": [
            "\u001b[0;31m---------------------------------------------------------------------------\u001b[0m",
            "\u001b[0;31mHFValidationError\u001b[0m                         Traceback (most recent call last)",
            "\u001b[0;32m/usr/local/lib/python3.10/dist-packages/transformers/utils/hub.py\u001b[0m in \u001b[0;36mcached_file\u001b[0;34m(path_or_repo_id, filename, cache_dir, force_download, resume_download, proxies, token, revision, local_files_only, subfolder, repo_type, user_agent, _raise_exceptions_for_gated_repo, _raise_exceptions_for_missing_entries, _raise_exceptions_for_connection_errors, _commit_hash, **deprecated_kwargs)\u001b[0m\n\u001b[1;32m    397\u001b[0m         \u001b[0;31m# Load from URL or cache if already cached\u001b[0m\u001b[0;34m\u001b[0m\u001b[0;34m\u001b[0m\u001b[0m\n\u001b[0;32m--> 398\u001b[0;31m         resolved_file = hf_hub_download(\n\u001b[0m\u001b[1;32m    399\u001b[0m             \u001b[0mpath_or_repo_id\u001b[0m\u001b[0;34m,\u001b[0m\u001b[0;34m\u001b[0m\u001b[0;34m\u001b[0m\u001b[0m\n",
            "\u001b[0;32m/usr/local/lib/python3.10/dist-packages/huggingface_hub/utils/_validators.py\u001b[0m in \u001b[0;36m_inner_fn\u001b[0;34m(*args, **kwargs)\u001b[0m\n\u001b[1;32m    109\u001b[0m             \u001b[0;32mif\u001b[0m \u001b[0marg_name\u001b[0m \u001b[0;32min\u001b[0m \u001b[0;34m[\u001b[0m\u001b[0;34m\"repo_id\"\u001b[0m\u001b[0;34m,\u001b[0m \u001b[0;34m\"from_id\"\u001b[0m\u001b[0;34m,\u001b[0m \u001b[0;34m\"to_id\"\u001b[0m\u001b[0;34m]\u001b[0m\u001b[0;34m:\u001b[0m\u001b[0;34m\u001b[0m\u001b[0;34m\u001b[0m\u001b[0m\n\u001b[0;32m--> 110\u001b[0;31m                 \u001b[0mvalidate_repo_id\u001b[0m\u001b[0;34m(\u001b[0m\u001b[0marg_value\u001b[0m\u001b[0;34m)\u001b[0m\u001b[0;34m\u001b[0m\u001b[0;34m\u001b[0m\u001b[0m\n\u001b[0m\u001b[1;32m    111\u001b[0m \u001b[0;34m\u001b[0m\u001b[0m\n",
            "\u001b[0;32m/usr/local/lib/python3.10/dist-packages/huggingface_hub/utils/_validators.py\u001b[0m in \u001b[0;36mvalidate_repo_id\u001b[0;34m(repo_id)\u001b[0m\n\u001b[1;32m    157\u001b[0m     \u001b[0;32mif\u001b[0m \u001b[0mrepo_id\u001b[0m\u001b[0;34m.\u001b[0m\u001b[0mcount\u001b[0m\u001b[0;34m(\u001b[0m\u001b[0;34m\"/\"\u001b[0m\u001b[0;34m)\u001b[0m \u001b[0;34m>\u001b[0m \u001b[0;36m1\u001b[0m\u001b[0;34m:\u001b[0m\u001b[0;34m\u001b[0m\u001b[0;34m\u001b[0m\u001b[0m\n\u001b[0;32m--> 158\u001b[0;31m         raise HFValidationError(\n\u001b[0m\u001b[1;32m    159\u001b[0m             \u001b[0;34m\"Repo id must be in the form 'repo_name' or 'namespace/repo_name':\"\u001b[0m\u001b[0;34m\u001b[0m\u001b[0;34m\u001b[0m\u001b[0m\n",
            "\u001b[0;31mHFValidationError\u001b[0m: Repo id must be in the form 'repo_name' or 'namespace/repo_name': '/content/drive/MyDrive/saved_model'. Use `repo_type` argument if needed.",
            "\nThe above exception was the direct cause of the following exception:\n",
            "\u001b[0;31mOSError\u001b[0m                                   Traceback (most recent call last)",
            "\u001b[0;32m<ipython-input-3-def2403194f6>\u001b[0m in \u001b[0;36m<cell line: 7>\u001b[0;34m()\u001b[0m\n\u001b[1;32m      5\u001b[0m \u001b[0;32mfrom\u001b[0m \u001b[0mtransformers\u001b[0m \u001b[0;32mimport\u001b[0m \u001b[0mpipeline\u001b[0m\u001b[0;34m\u001b[0m\u001b[0;34m\u001b[0m\u001b[0m\n\u001b[1;32m      6\u001b[0m \u001b[0;34m\u001b[0m\u001b[0m\n\u001b[0;32m----> 7\u001b[0;31m \u001b[0mnlg_pipeline\u001b[0m\u001b[0;34m=\u001b[0m\u001b[0mpipeline\u001b[0m\u001b[0;34m(\u001b[0m\u001b[0;34m'text2text-generation'\u001b[0m\u001b[0;34m,\u001b[0m\u001b[0mmodel\u001b[0m\u001b[0;34m=\u001b[0m\u001b[0mmodel_path\u001b[0m\u001b[0;34m,\u001b[0m\u001b[0mtokenizer\u001b[0m\u001b[0;34m=\u001b[0m\u001b[0mmodel_name\u001b[0m\u001b[0;34m)\u001b[0m\u001b[0;34m\u001b[0m\u001b[0;34m\u001b[0m\u001b[0m\n\u001b[0m\u001b[1;32m      8\u001b[0m \u001b[0;34m\u001b[0m\u001b[0m\n\u001b[1;32m      9\u001b[0m \u001b[0;34m\u001b[0m\u001b[0m\n",
            "\u001b[0;32m/usr/local/lib/python3.10/dist-packages/transformers/pipelines/__init__.py\u001b[0m in \u001b[0;36mpipeline\u001b[0;34m(task, model, config, tokenizer, feature_extractor, image_processor, framework, revision, use_fast, token, device, device_map, torch_dtype, trust_remote_code, model_kwargs, pipeline_class, **kwargs)\u001b[0m\n\u001b[1;32m    777\u001b[0m         \u001b[0;32mif\u001b[0m \u001b[0;32mnot\u001b[0m \u001b[0misinstance\u001b[0m\u001b[0;34m(\u001b[0m\u001b[0mconfig\u001b[0m\u001b[0;34m,\u001b[0m \u001b[0mPretrainedConfig\u001b[0m\u001b[0;34m)\u001b[0m \u001b[0;32mand\u001b[0m \u001b[0mpretrained_model_name_or_path\u001b[0m \u001b[0;32mis\u001b[0m \u001b[0;32mnot\u001b[0m \u001b[0;32mNone\u001b[0m\u001b[0;34m:\u001b[0m\u001b[0;34m\u001b[0m\u001b[0;34m\u001b[0m\u001b[0m\n\u001b[1;32m    778\u001b[0m             \u001b[0;31m# We make a call to the config file first (which may be absent) to get the commit hash as soon as possible\u001b[0m\u001b[0;34m\u001b[0m\u001b[0;34m\u001b[0m\u001b[0m\n\u001b[0;32m--> 779\u001b[0;31m             resolved_config_file = cached_file(\n\u001b[0m\u001b[1;32m    780\u001b[0m                 \u001b[0mpretrained_model_name_or_path\u001b[0m\u001b[0;34m,\u001b[0m\u001b[0;34m\u001b[0m\u001b[0;34m\u001b[0m\u001b[0m\n\u001b[1;32m    781\u001b[0m                 \u001b[0mCONFIG_NAME\u001b[0m\u001b[0;34m,\u001b[0m\u001b[0;34m\u001b[0m\u001b[0;34m\u001b[0m\u001b[0m\n",
            "\u001b[0;32m/usr/local/lib/python3.10/dist-packages/transformers/utils/hub.py\u001b[0m in \u001b[0;36mcached_file\u001b[0;34m(path_or_repo_id, filename, cache_dir, force_download, resume_download, proxies, token, revision, local_files_only, subfolder, repo_type, user_agent, _raise_exceptions_for_gated_repo, _raise_exceptions_for_missing_entries, _raise_exceptions_for_connection_errors, _commit_hash, **deprecated_kwargs)\u001b[0m\n\u001b[1;32m    460\u001b[0m         \u001b[0;32mraise\u001b[0m \u001b[0mEnvironmentError\u001b[0m\u001b[0;34m(\u001b[0m\u001b[0;34mf\"There was a specific connection error when trying to load {path_or_repo_id}:\\n{err}\"\u001b[0m\u001b[0;34m)\u001b[0m\u001b[0;34m\u001b[0m\u001b[0;34m\u001b[0m\u001b[0m\n\u001b[1;32m    461\u001b[0m     \u001b[0;32mexcept\u001b[0m \u001b[0mHFValidationError\u001b[0m \u001b[0;32mas\u001b[0m \u001b[0me\u001b[0m\u001b[0;34m:\u001b[0m\u001b[0;34m\u001b[0m\u001b[0;34m\u001b[0m\u001b[0m\n\u001b[0;32m--> 462\u001b[0;31m         raise EnvironmentError(\n\u001b[0m\u001b[1;32m    463\u001b[0m             \u001b[0;34mf\"Incorrect path_or_model_id: '{path_or_repo_id}'. Please provide either the path to a local folder or the repo_id of a model on the Hub.\"\u001b[0m\u001b[0;34m\u001b[0m\u001b[0;34m\u001b[0m\u001b[0m\n\u001b[1;32m    464\u001b[0m         ) from e\n",
            "\u001b[0;31mOSError\u001b[0m: Incorrect path_or_model_id: '/content/drive/MyDrive/saved_model'. Please provide either the path to a local folder or the repo_id of a model on the Hub."
          ]
        }
      ],
      "source": [
        "model_path= '/content/drive/MyDrive/saved_model'\n",
        "\n",
        "model_name = \"gogamza/kobart-base-v2\"\n",
        "\n",
        "from transformers import pipeline\n",
        "\n",
        "nlg_pipeline=pipeline('text2text-generation',model=model_path,tokenizer=model_name)\n",
        "\n",
        "\n",
        "def generate_text(pipe, text, num_return_sequences, max_length):\n",
        "    target_style_name = \"표준어\"\n",
        "    text = f\"{target_style_name} 말투로 변환:{text}\"\n",
        "    out = pipe(text, num_return_sequences=num_return_sequences, max_length=max_length)\n",
        "    #num_return_sequences의 값에 따라서 반환되는 텍스트의 개수가 바뀐다. 만약 3으로 지정했다면 길이가 3인 리스트에 담겨서 값이 반환될 것임!\n",
        "    return [x['generated_text'] for x in out]\n",
        "\n",
        "\n",
        "print(\"Write 'q' to exit\")\n",
        "while True:\n",
        "    src_text=input(\"Dialect to translate(입력받을 사투리) : \")\n",
        "    if src_text == 'q':\n",
        "        break\n",
        "    target_text_ko=generate_text(nlg_pipeline,src_text,num_return_sequences=1,max_length=64)[0]\n",
        "    print(f\"Translated Standard (표준어로 출력): {target_text_ko}\")"
      ]
    },
    {
      "cell_type": "markdown",
      "metadata": {
        "id": "-AzQTSA06ep9"
      },
      "source": [
        "# 최종 연결!!(Ko-Speech & Ko-BART& Tensorflow-TTS)"
      ]
    },
    {
      "cell_type": "markdown",
      "metadata": {
        "id": "dFBFOZk4AWHs"
      },
      "source": [
        "## Ko=BART 불러오기"
      ]
    },
    {
      "cell_type": "code",
      "execution_count": null,
      "metadata": {
        "colab": {
          "base_uri": "https://localhost:8080/",
          "height": 214,
          "referenced_widgets": [
            "fc84f725ccaf47159b753f920297ed78",
            "fb1f1673791c419baef117c6cd78ab1b",
            "958865bf83b148cf9cce8b0bd8455d1e",
            "131771e2fc3648368e47ac965383855a",
            "ab1926eeb72e49f5bd8b910d7b723ca0",
            "7c60633c2c514f4399286e18abaf6809",
            "644766a37f0e402eb148df882ffe455b",
            "260907e734184c91bbc347bcb381c3af",
            "3bfef3f6fc0349ca9c8633ec5945b149",
            "d5225758716a461aa57c97597a32119e",
            "f269cdc733c444689c6de1cfae313f03",
            "09323d50c7214ddb9d57c984a989510e",
            "57d6a63a2a884aa5a577718da1500258",
            "5e327436eaf54a30ac7b69deddd654e8",
            "7f2da2b9c25240a7974504d10bc0144e",
            "ff2f1e2a8194426a8c866e0ecb4a2b6e",
            "d87c0820fc914762aa5b9d72639a49a1",
            "74d1d7897099412e931d2204ca85ff8f",
            "705b9e17349446da8912f9b1a1cfd3c6",
            "52ffea01edb340aca07381d8b016830e",
            "b28ad146494243cab47a390a081e9cff",
            "d8664b8b2639464d8a03228d1335e626",
            "6c3f7353566942df88f789eb5ca8b3d0",
            "da2d78fc9bc84c8ab7f039260e49e1bd",
            "1f5beb929d864cdc812adfc3eb07228e",
            "63b2bd66f9b448eeabbd072a55dcc24e",
            "f741b59d3e5e43c5ad18d133488e6dc4",
            "fbefaf0136a843959d2e62ab68a6bdd4",
            "f4e5e00bc7c543ca91165aef4d74096a",
            "ad8ba2c776134257ba3f8b71540a31ce",
            "3a5cf1731ad14d499743071230ff3a25",
            "a0ee7cc9e3cd4f9393725686ae41ae21",
            "4a062acff0174ddab28d2d248970b5ce",
            "c04923995c9c464b8a63847bec0e671b",
            "0ff09628ce1a41049c1914547135e093",
            "e9089deb0ab349528ea9ca8115ad05ee",
            "a08fe9c2317b41b6988208b04e010aeb",
            "359c5eb62ae24ea19ed2fb775f6a2f31",
            "9fe63afc035f4a33bef3616bce2c7e75",
            "d1aa512e3cd743ae95afe43a834ffc01",
            "03f900028fd24ea5a2df49e098e89752",
            "51ddbf1a6e6443a89029478bc944d3c4",
            "aa022d8e76a54166b11964f1df241793",
            "67076cf3fbd04b3b9f3dfb89f5bda783"
          ]
        },
        "id": "2rvJCs41929P",
        "outputId": "39fbc0fc-9335-441f-f30d-63636bf39e6d"
      },
      "outputs": [
        {
          "name": "stderr",
          "output_type": "stream",
          "text": [
            "You passed along `num_labels=3` with an incompatible id to label map: {'0': 'NEGATIVE', '1': 'POSITIVE'}. The number of labels wil be overwritten to 2.\n",
            "You passed along `num_labels=3` with an incompatible id to label map: {'0': 'NEGATIVE', '1': 'POSITIVE'}. The number of labels wil be overwritten to 2.\n"
          ]
        },
        {
          "data": {
            "application/vnd.jupyter.widget-view+json": {
              "model_id": "fc84f725ccaf47159b753f920297ed78",
              "version_major": 2,
              "version_minor": 0
            },
            "text/plain": [
              "config.json:   0%|          | 0.00/1.36k [00:00<?, ?B/s]"
            ]
          },
          "metadata": {},
          "output_type": "display_data"
        },
        {
          "name": "stderr",
          "output_type": "stream",
          "text": [
            "You passed along `num_labels=3` with an incompatible id to label map: {'0': 'NEGATIVE', '1': 'POSITIVE'}. The number of labels wil be overwritten to 2.\n"
          ]
        },
        {
          "data": {
            "application/vnd.jupyter.widget-view+json": {
              "model_id": "09323d50c7214ddb9d57c984a989510e",
              "version_major": 2,
              "version_minor": 0
            },
            "text/plain": [
              "tokenizer.json:   0%|          | 0.00/682k [00:00<?, ?B/s]"
            ]
          },
          "metadata": {},
          "output_type": "display_data"
        },
        {
          "data": {
            "application/vnd.jupyter.widget-view+json": {
              "model_id": "6c3f7353566942df88f789eb5ca8b3d0",
              "version_major": 2,
              "version_minor": 0
            },
            "text/plain": [
              "added_tokens.json:   0%|          | 0.00/4.00 [00:00<?, ?B/s]"
            ]
          },
          "metadata": {},
          "output_type": "display_data"
        },
        {
          "data": {
            "application/vnd.jupyter.widget-view+json": {
              "model_id": "c04923995c9c464b8a63847bec0e671b",
              "version_major": 2,
              "version_minor": 0
            },
            "text/plain": [
              "special_tokens_map.json:   0%|          | 0.00/112 [00:00<?, ?B/s]"
            ]
          },
          "metadata": {},
          "output_type": "display_data"
        },
        {
          "name": "stderr",
          "output_type": "stream",
          "text": [
            "You passed along `num_labels=3` with an incompatible id to label map: {'0': 'NEGATIVE', '1': 'POSITIVE'}. The number of labels wil be overwritten to 2.\n"
          ]
        }
      ],
      "source": [
        "import warnings\n",
        "warnings.filterwarnings('ignore')\n",
        "from transformers import pipeline\n",
        "\n",
        "model_path= '/content/drive/MyDrive/saved_model'\n",
        "model_name = \"gogamza/kobart-base-v2\"\n",
        "\n",
        "\n",
        "nlg_pipeline=pipeline('text2text-generation',model=model_path,tokenizer=model_name)\n"
      ]
    },
    {
      "cell_type": "markdown",
      "metadata": {
        "id": "JiDroyq_AR2t"
      },
      "source": [
        "### TensorflowTTS(Fast-Speech2) 불러오기"
      ]
    },
    {
      "cell_type": "code",
      "execution_count": null,
      "metadata": {
        "colab": {
          "background_save": true,
          "base_uri": "https://localhost:8080/",
          "height": 984
        },
        "id": "t6r_e7m1-7PS",
        "outputId": "89649c44-4e7b-49b1-891d-cb00a1fc4793"
      },
      "outputs": [
        {
          "name": "stdout",
          "output_type": "stream",
          "text": [
            "/content/drive/MyDrive\n",
            "Processing /content/drive/MyDrive/TensorFlowTTS\n",
            "  Preparing metadata (setup.py) ... \u001b[?25l\u001b[?25hdone\n",
            "INFO: pip is looking at multiple versions of tensorflowtts to determine which version is compatible with other requirements. This could take a while.\n",
            "\u001b[31mERROR: Could not find a version that satisfies the requirement tensorflow-gpu==2.7.0 (from tensorflowtts) (from versions: 2.8.0rc0, 2.8.0rc1, 2.8.0, 2.8.1, 2.8.2, 2.8.3, 2.8.4, 2.9.0rc0, 2.9.0rc1, 2.9.0rc2, 2.9.0, 2.9.1, 2.9.2, 2.9.3, 2.10.0rc0, 2.10.0rc1, 2.10.0rc2, 2.10.0rc3, 2.10.0, 2.10.1, 2.11.0rc0, 2.11.0rc1, 2.11.0rc2, 2.11.0, 2.12.0)\u001b[0m\u001b[31m\n",
            "\u001b[0m\u001b[31mERROR: No matching distribution found for tensorflow-gpu==2.7.0\u001b[0m\u001b[31m\n",
            "\u001b[0mProcessing /content/drive/MyDrive/TensorFlowTTS\n",
            "  Preparing metadata (setup.py) ... \u001b[?25l\u001b[?25hdone\n",
            "INFO: pip is looking at multiple versions of tensorflowtts to determine which version is compatible with other requirements. This could take a while.\n",
            "\u001b[31mERROR: Could not find a version that satisfies the requirement tensorflow-gpu==2.7.0 (from tensorflowtts) (from versions: 2.8.0rc0, 2.8.0rc1, 2.8.0, 2.8.1, 2.8.2, 2.8.3, 2.8.4, 2.9.0rc0, 2.9.0rc1, 2.9.0rc2, 2.9.0, 2.9.1, 2.9.2, 2.9.3, 2.10.0rc0, 2.10.0rc1, 2.10.0rc2, 2.10.0rc3, 2.10.0, 2.10.1, 2.11.0rc0, 2.11.0rc1, 2.11.0rc2, 2.11.0, 2.12.0)\u001b[0m\u001b[31m\n",
            "\u001b[0m\u001b[31mERROR: No matching distribution found for tensorflow-gpu==2.7.0\u001b[0m\u001b[31m\n",
            "\u001b[0m"
          ]
        },
        {
          "ename": "ModuleNotFoundError",
          "evalue": "No module named 'jamo'",
          "output_type": "error",
          "traceback": [
            "\u001b[0;31m---------------------------------------------------------------------------\u001b[0m",
            "\u001b[0;31mModuleNotFoundError\u001b[0m                       Traceback (most recent call last)",
            "\u001b[0;32m<ipython-input-12-29d6a1b9c76f>\u001b[0m in \u001b[0;36m<cell line: 32>\u001b[0;34m()\u001b[0m\n\u001b[1;32m     30\u001b[0m \u001b[0msys\u001b[0m\u001b[0;34m.\u001b[0m\u001b[0mpath\u001b[0m\u001b[0;34m.\u001b[0m\u001b[0mappend\u001b[0m\u001b[0;34m(\u001b[0m\u001b[0;34m\"/content/drive/MyDrive/TensorFlowTTS/\"\u001b[0m\u001b[0;34m)\u001b[0m\u001b[0;34m\u001b[0m\u001b[0;34m\u001b[0m\u001b[0m\n\u001b[1;32m     31\u001b[0m \u001b[0;34m\u001b[0m\u001b[0m\n\u001b[0;32m---> 32\u001b[0;31m \u001b[0;32mfrom\u001b[0m \u001b[0mtensorflow_tts\u001b[0m\u001b[0;34m.\u001b[0m\u001b[0minference\u001b[0m \u001b[0;32mimport\u001b[0m \u001b[0mAutoConfig\u001b[0m\u001b[0;34m\u001b[0m\u001b[0;34m\u001b[0m\u001b[0m\n\u001b[0m\u001b[1;32m     33\u001b[0m \u001b[0;32mfrom\u001b[0m \u001b[0mtensorflow_tts\u001b[0m\u001b[0;34m.\u001b[0m\u001b[0minference\u001b[0m \u001b[0;32mimport\u001b[0m \u001b[0mTFAutoModel\u001b[0m\u001b[0;34m\u001b[0m\u001b[0;34m\u001b[0m\u001b[0m\n\u001b[1;32m     34\u001b[0m \u001b[0;32mfrom\u001b[0m \u001b[0mtensorflow_tts\u001b[0m\u001b[0;34m.\u001b[0m\u001b[0minference\u001b[0m \u001b[0;32mimport\u001b[0m \u001b[0mAutoProcessor\u001b[0m\u001b[0;34m\u001b[0m\u001b[0;34m\u001b[0m\u001b[0m\n",
            "\u001b[0;32m/content/drive/MyDrive/TensorFlowTTS/tensorflow_tts/inference/__init__.py\u001b[0m in \u001b[0;36m<module>\u001b[0;34m\u001b[0m\n\u001b[0;32m----> 1\u001b[0;31m \u001b[0;32mfrom\u001b[0m \u001b[0mtensorflow_tts\u001b[0m\u001b[0;34m.\u001b[0m\u001b[0minference\u001b[0m\u001b[0;34m.\u001b[0m\u001b[0mauto_model\u001b[0m \u001b[0;32mimport\u001b[0m \u001b[0mTFAutoModel\u001b[0m\u001b[0;34m\u001b[0m\u001b[0;34m\u001b[0m\u001b[0m\n\u001b[0m\u001b[1;32m      2\u001b[0m \u001b[0;32mfrom\u001b[0m \u001b[0mtensorflow_tts\u001b[0m\u001b[0;34m.\u001b[0m\u001b[0minference\u001b[0m\u001b[0;34m.\u001b[0m\u001b[0mauto_config\u001b[0m \u001b[0;32mimport\u001b[0m \u001b[0mAutoConfig\u001b[0m\u001b[0;34m\u001b[0m\u001b[0;34m\u001b[0m\u001b[0m\n\u001b[1;32m      3\u001b[0m \u001b[0;32mfrom\u001b[0m \u001b[0mtensorflow_tts\u001b[0m\u001b[0;34m.\u001b[0m\u001b[0minference\u001b[0m\u001b[0;34m.\u001b[0m\u001b[0mauto_processor\u001b[0m \u001b[0;32mimport\u001b[0m \u001b[0mAutoProcessor\u001b[0m\u001b[0;34m\u001b[0m\u001b[0;34m\u001b[0m\u001b[0m\n",
            "\u001b[0;32m/content/drive/MyDrive/TensorFlowTTS/tensorflow_tts/inference/auto_model.py\u001b[0m in \u001b[0;36m<module>\u001b[0;34m\u001b[0m\n\u001b[1;32m     22\u001b[0m \u001b[0;32mfrom\u001b[0m \u001b[0mcollections\u001b[0m \u001b[0;32mimport\u001b[0m \u001b[0mOrderedDict\u001b[0m\u001b[0;34m\u001b[0m\u001b[0;34m\u001b[0m\u001b[0m\n\u001b[1;32m     23\u001b[0m \u001b[0;34m\u001b[0m\u001b[0m\n\u001b[0;32m---> 24\u001b[0;31m from tensorflow_tts.configs import (\n\u001b[0m\u001b[1;32m     25\u001b[0m     \u001b[0mFastSpeechConfig\u001b[0m\u001b[0;34m,\u001b[0m\u001b[0;34m\u001b[0m\u001b[0;34m\u001b[0m\u001b[0m\n\u001b[1;32m     26\u001b[0m     \u001b[0mFastSpeech2Config\u001b[0m\u001b[0;34m,\u001b[0m\u001b[0;34m\u001b[0m\u001b[0;34m\u001b[0m\u001b[0m\n",
            "\u001b[0;32m/content/drive/MyDrive/TensorFlowTTS/tensorflow_tts/configs/__init__.py\u001b[0m in \u001b[0;36m<module>\u001b[0;34m\u001b[0m\n\u001b[0;32m----> 1\u001b[0;31m \u001b[0;32mfrom\u001b[0m \u001b[0mtensorflow_tts\u001b[0m\u001b[0;34m.\u001b[0m\u001b[0mconfigs\u001b[0m\u001b[0;34m.\u001b[0m\u001b[0mbase_config\u001b[0m \u001b[0;32mimport\u001b[0m \u001b[0mBaseConfig\u001b[0m\u001b[0;34m\u001b[0m\u001b[0;34m\u001b[0m\u001b[0m\n\u001b[0m\u001b[1;32m      2\u001b[0m \u001b[0;32mfrom\u001b[0m \u001b[0mtensorflow_tts\u001b[0m\u001b[0;34m.\u001b[0m\u001b[0mconfigs\u001b[0m\u001b[0;34m.\u001b[0m\u001b[0mfastspeech\u001b[0m \u001b[0;32mimport\u001b[0m \u001b[0mFastSpeechConfig\u001b[0m\u001b[0;34m\u001b[0m\u001b[0;34m\u001b[0m\u001b[0m\n\u001b[1;32m      3\u001b[0m \u001b[0;32mfrom\u001b[0m \u001b[0mtensorflow_tts\u001b[0m\u001b[0;34m.\u001b[0m\u001b[0mconfigs\u001b[0m\u001b[0;34m.\u001b[0m\u001b[0mfastspeech2\u001b[0m \u001b[0;32mimport\u001b[0m \u001b[0mFastSpeech2Config\u001b[0m\u001b[0;34m\u001b[0m\u001b[0;34m\u001b[0m\u001b[0m\n\u001b[1;32m      4\u001b[0m from tensorflow_tts.configs.melgan import (\n\u001b[1;32m      5\u001b[0m     \u001b[0mMelGANDiscriminatorConfig\u001b[0m\u001b[0;34m,\u001b[0m\u001b[0;34m\u001b[0m\u001b[0;34m\u001b[0m\u001b[0m\n",
            "\u001b[0;32m/content/drive/MyDrive/TensorFlowTTS/tensorflow_tts/configs/base_config.py\u001b[0m in \u001b[0;36m<module>\u001b[0;34m\u001b[0m\n\u001b[1;32m     19\u001b[0m \u001b[0;32mimport\u001b[0m \u001b[0mos\u001b[0m\u001b[0;34m\u001b[0m\u001b[0;34m\u001b[0m\u001b[0m\n\u001b[1;32m     20\u001b[0m \u001b[0;34m\u001b[0m\u001b[0m\n\u001b[0;32m---> 21\u001b[0;31m \u001b[0;32mfrom\u001b[0m \u001b[0mtensorflow_tts\u001b[0m\u001b[0;34m.\u001b[0m\u001b[0mutils\u001b[0m\u001b[0;34m.\u001b[0m\u001b[0mutils\u001b[0m \u001b[0;32mimport\u001b[0m \u001b[0mCONFIG_FILE_NAME\u001b[0m\u001b[0;34m\u001b[0m\u001b[0;34m\u001b[0m\u001b[0m\n\u001b[0m\u001b[1;32m     22\u001b[0m \u001b[0;34m\u001b[0m\u001b[0m\n\u001b[1;32m     23\u001b[0m \u001b[0;34m\u001b[0m\u001b[0m\n",
            "\u001b[0;32m/content/drive/MyDrive/TensorFlowTTS/tensorflow_tts/utils/__init__.py\u001b[0m in \u001b[0;36m<module>\u001b[0;34m\u001b[0m\n\u001b[0;32m----> 1\u001b[0;31m from tensorflow_tts.utils.cleaners import (\n\u001b[0m\u001b[1;32m      2\u001b[0m     \u001b[0mbasic_cleaners\u001b[0m\u001b[0;34m,\u001b[0m\u001b[0;34m\u001b[0m\u001b[0;34m\u001b[0m\u001b[0m\n\u001b[1;32m      3\u001b[0m     \u001b[0mcollapse_whitespace\u001b[0m\u001b[0;34m,\u001b[0m\u001b[0;34m\u001b[0m\u001b[0;34m\u001b[0m\u001b[0m\n\u001b[1;32m      4\u001b[0m     \u001b[0mconvert_to_ascii\u001b[0m\u001b[0;34m,\u001b[0m\u001b[0;34m\u001b[0m\u001b[0;34m\u001b[0m\u001b[0m\n\u001b[1;32m      5\u001b[0m     \u001b[0menglish_cleaners\u001b[0m\u001b[0;34m,\u001b[0m\u001b[0;34m\u001b[0m\u001b[0;34m\u001b[0m\u001b[0m\n",
            "\u001b[0;32m/content/drive/MyDrive/TensorFlowTTS/tensorflow_tts/utils/cleaners.py\u001b[0m in \u001b[0;36m<module>\u001b[0;34m\u001b[0m\n\u001b[1;32m     22\u001b[0m \u001b[0;32mimport\u001b[0m \u001b[0mre\u001b[0m\u001b[0;34m\u001b[0m\u001b[0;34m\u001b[0m\u001b[0m\n\u001b[1;32m     23\u001b[0m \u001b[0;34m\u001b[0m\u001b[0m\n\u001b[0;32m---> 24\u001b[0;31m \u001b[0;32mfrom\u001b[0m \u001b[0mtensorflow_tts\u001b[0m\u001b[0;34m.\u001b[0m\u001b[0mutils\u001b[0m\u001b[0;34m.\u001b[0m\u001b[0mkorean\u001b[0m \u001b[0;32mimport\u001b[0m \u001b[0mtokenize\u001b[0m \u001b[0;32mas\u001b[0m \u001b[0mko_tokenize\u001b[0m\u001b[0;34m\u001b[0m\u001b[0;34m\u001b[0m\u001b[0m\n\u001b[0m\u001b[1;32m     25\u001b[0m \u001b[0;32mfrom\u001b[0m \u001b[0mtensorflow_tts\u001b[0m\u001b[0;34m.\u001b[0m\u001b[0mutils\u001b[0m\u001b[0;34m.\u001b[0m\u001b[0mnumber_norm\u001b[0m \u001b[0;32mimport\u001b[0m \u001b[0mnormalize_numbers\u001b[0m\u001b[0;34m\u001b[0m\u001b[0;34m\u001b[0m\u001b[0m\n\u001b[1;32m     26\u001b[0m \u001b[0;32mfrom\u001b[0m \u001b[0munidecode\u001b[0m \u001b[0;32mimport\u001b[0m \u001b[0munidecode\u001b[0m\u001b[0;34m\u001b[0m\u001b[0;34m\u001b[0m\u001b[0m\n",
            "\u001b[0;32m/content/drive/MyDrive/TensorFlowTTS/tensorflow_tts/utils/korean.py\u001b[0m in \u001b[0;36m<module>\u001b[0;34m\u001b[0m\n\u001b[1;32m     22\u001b[0m \u001b[0;32mimport\u001b[0m \u001b[0mre\u001b[0m\u001b[0;34m\u001b[0m\u001b[0;34m\u001b[0m\u001b[0m\n\u001b[1;32m     23\u001b[0m \u001b[0;34m\u001b[0m\u001b[0m\n\u001b[0;32m---> 24\u001b[0;31m \u001b[0;32mfrom\u001b[0m \u001b[0mjamo\u001b[0m \u001b[0;32mimport\u001b[0m \u001b[0mh2j\u001b[0m\u001b[0;34m,\u001b[0m \u001b[0mhangul_to_jamo\u001b[0m\u001b[0;34m,\u001b[0m \u001b[0mj2h\u001b[0m\u001b[0;34m,\u001b[0m \u001b[0mjamo_to_hcj\u001b[0m\u001b[0;34m\u001b[0m\u001b[0;34m\u001b[0m\u001b[0m\n\u001b[0m\u001b[1;32m     25\u001b[0m \u001b[0;34m\u001b[0m\u001b[0m\n\u001b[1;32m     26\u001b[0m etc_dictionary = {\n",
            "\u001b[0;31mModuleNotFoundError\u001b[0m: No module named 'jamo'",
            "",
            "\u001b[0;31m---------------------------------------------------------------------------\u001b[0;32m\nNOTE: If your import is failing due to a missing package, you can\nmanually install dependencies using either !pip or !apt.\n\nTo view examples of installing some common dependencies, click the\n\"Open Examples\" button below.\n\u001b[0;31m---------------------------------------------------------------------------\u001b[0m\n"
          ]
        }
      ],
      "source": [
        "#!pip install h5py==2.10\n",
        "#!pip install git+https://github.com/repodiac/german_transliterate\n",
        "%cd '/content/drive/MyDrive'\n",
        "\n",
        "print(\"Downloading FastSpeech2 model...\")\n",
        "!gdown --id {\"1adb_hA9q0Qg959bl70WiRpm5a9Hdc2Ym\"} -O fastspeech2-200k.h5\n",
        "\n",
        "\n",
        "\n",
        "import os\n",
        "!git clone https://github.com/TensorSpeech/TensorFlowTTS.git\n",
        "os.chdir(\"TensorFlowTTS\")\n",
        "!pip install .\n",
        "os.chdir(\"..\")\n",
        "\n",
        "import sys\n",
        "sys.path.append(\"TensorFlowTTS/\")\n",
        "import tensorflow as tf\n",
        "import os\n",
        "import yaml\n",
        "import numpy as np\n",
        "import matplotlib.pyplot as plt\n",
        "import IPython.display as ipd\n",
        "\n",
        "os.chdir(\"/content/drive/MyDrive/TensorFlowTTS\")\n",
        "!pip install .\n",
        "os.chdir(\"..\")\n",
        "\n",
        "import sys\n",
        "sys.path.append(\"/content/drive/MyDrive/TensorFlowTTS/\")\n",
        "\n",
        "from tensorflow_tts.inference import AutoConfig\n",
        "from tensorflow_tts.inference import TFAutoModel\n",
        "from tensorflow_tts.inference import AutoProcessor\n",
        "\n",
        "fastspeech2_config = AutoConfig.from_pretrained('/content/drive/MyDrive/TensorFlowTTS/examples/fastspeech2/conf/fastspeech2.kss.v1.yaml')\n",
        "fastspeech2 = TFAutoModel.from_pretrained(\n",
        "    config=fastspeech2_config,\n",
        "    pretrained_path=\"fastspeech2-200k.h5\",\n",
        "    name=\"fastspeech2\"\n",
        ")\n",
        "\n",
        "# Vocoder model (mel spectrogram -> audio)\n",
        "# 멜로디 생성 모델을 사용합니다.\n",
        "mb_melgan_config = AutoConfig.from_pretrained('TensorFlowTTS/examples/multiband_melgan/conf/multiband_melgan.v1.yaml')\n",
        "mb_melgan = TFAutoModel.from_pretrained(\n",
        "    config=mb_melgan_config,\n",
        "    pretrained_path=\"mb.melgan-1000k.h5\",\n",
        "    name=\"mb_melgan\"\n",
        ")\n",
        " # input text를 inference시 숫자로 이뤄진 sequence로 변환할 때 필요합니다.\n",
        "processor = AutoProcessor.from_pretrained(pretrained_path=\"./kss_mapper.json\")\n",
        "\n",
        "# 직접 음성합성을 진행하는 함수입니다.\n",
        "# text -> mel spectrogram model, vocoder model을 인자로 선택합니다.\n",
        "def do_synthesis(input_text, text2mel_model, vocoder_model, text2mel_name, vocoder_name):\n",
        "  input_ids = processor.text_to_sequence(input_text)\n",
        "\n",
        "  # text2mel part\n",
        "  if text2mel_name == \"TACOTRON\":\n",
        "    _, mel_outputs, stop_token_prediction, alignment_history = text2mel_model.inference(\n",
        "        tf.expand_dims(tf.convert_to_tensor(input_ids, dtype=tf.int32), 0),\n",
        "        tf.convert_to_tensor([len(input_ids)], tf.int32),\n",
        "        tf.convert_to_tensor([0], dtype=tf.int32)\n",
        "    )\n",
        "  elif text2mel_name == \"FASTSPEECH2\":\n",
        "    mel_before, mel_outputs, duration_outputs, _, _ = text2mel_model.inference(\n",
        "        tf.expand_dims(tf.convert_to_tensor(input_ids, dtype=tf.int32), 0),\n",
        "        speaker_ids=tf.convert_to_tensor([0], dtype=tf.int32),\n",
        "        speed_ratios=tf.convert_to_tensor([1.2], dtype=tf.float32),\n",
        "        f0_ratios=tf.convert_to_tensor([1.0], dtype=tf.float32),\n",
        "        energy_ratios=tf.convert_to_tensor([1.0], dtype=tf.float32),\n",
        "    )\n",
        "  else:\n",
        "    raise ValueError(\"Only TACOTRON, FASTSPEECH2 are supported on text2mel_name\")\n",
        "\n",
        "  # vocoder part\n",
        "  if vocoder_name == \"MB-MELGAN\":\n",
        "    audio = vocoder_model.inference(mel_outputs)[0, :, 0]\n",
        "  else:\n",
        "    raise ValueError(\"Only MB_MELGAN are supported on vocoder_name\")\n",
        "\n",
        "  # tacotron2면 attention graph도 함께 반환합니다.\n",
        "  if text2mel_name == \"TACOTRON\":\n",
        "    return mel_outputs.numpy(), alignment_history.numpy(), audio.numpy()\n",
        "  else:\n",
        "    return mel_outputs.numpy(), audio.numpy()\n",
        "# attention을 시각화해서 보여주는 함수입니다.\n",
        "# tacotron2의 encoder와 decoder가 어떠한 mapping을 형성하는지 보여줍니다.\n",
        "def visualize_attention(alignment_history):\n",
        "  import matplotlib.pyplot as plt\n",
        "\n",
        "  fig = plt.figure(figsize=(8, 6))\n",
        "  ax = fig.add_subplot(111)\n",
        "  ax.set_title(f'Alignment steps')\n",
        "  im = ax.imshow(\n",
        "      alignment_history,\n",
        "      aspect='auto',\n",
        "      origin='lower',\n",
        "      interpolation='none')\n",
        "  fig.colorbar(im, ax=ax)\n",
        "  xlabel = 'Encoder timestep'\n",
        "  plt.xlabel(xlabel)\n",
        "  plt.ylabel('Decoder timestep')\n",
        "  plt.tight_layout()\n",
        "  plt.show()\n",
        "  plt.close()\n",
        "\n",
        "def visualize_mel_spectrogram(mels):\n",
        "  mels = tf.reshape(mels, [-1, 80]).numpy()\n",
        "  fig = plt.figure(figsize=(10, 8))\n",
        "  ax1 = fig.add_subplot(311)\n",
        "  ax1.set_title(f'Predicted Mel-after-Spectrogram')\n",
        "  im = ax1.imshow(np.rot90(mels), aspect='auto', interpolation='none')\n",
        "  fig.colorbar(mappable=im, shrink=0.65, orientation='horizontal', ax=ax1)\n",
        "  plt.show()\n",
        "  plt.close()\n",
        "\n",
        "\n",
        "def visualize_mel(alignment_history) :\n",
        "  fig = plt.figure(figsize=(8, 6))\n",
        "  ax = fig.add_subplot(111)\n",
        "  ax.set_title(f'Alignment steps')\n",
        "  im = ax.imshow(\n",
        "      alignment_history,\n",
        "      aspect='auto',\n",
        "      origin='lower',\n",
        "      interpolation='none')\n",
        "  fig.colorbar(im, ax=ax)\n",
        "  xlabel = 'Decoder timestep'\n",
        "  plt.xlabel(xlabel)\n",
        "  plt.ylabel('Encoder timestep')\n",
        "  plt.tight_layout()\n",
        "  plt.show()\n",
        "  plt.close()\n"
      ]
    },
    {
      "cell_type": "markdown",
      "metadata": {
        "id": "Vd1VvGknnNP5"
      },
      "source": [
        "## Ko-Speech version"
      ]
    },
    {
      "cell_type": "code",
      "execution_count": null,
      "metadata": {
        "colab": {
          "base_uri": "https://localhost:8080/",
          "height": 355
        },
        "id": "mkTDbnZK5qPM",
        "outputId": "433b6839-e13f-4c35-f5f4-3ee6f4d12f9c"
      },
      "outputs": [
        {
          "name": "stdout",
          "output_type": "stream",
          "text": [
            "Ko-Speech 결과(음성인식) :  그런 어떤 쫌 들어?\n",
            "Translated Standard (표준어로 출력): 그런 어떤 조금 들어?\n"
          ]
        },
        {
          "data": {
            "image/png": "[encoded data removed]",
            "text/plain": [
              "<Figure size 1000x800 with 2 Axes>"
            ]
          },
          "metadata": {},
          "output_type": "display_data"
        },
        {
          "data": {
            "text/html": [
              "\n",
              "                <audio  controls=\"controls\" >\n",
              "                    <source src=\"data:audio/wav;base64,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\" type=\"audio/wav\" />\n",
              "                    Your browser does not support the audio element.\n",
              "                </audio>\n",
              "              "
            ],
            "text/plain": [
              "<IPython.lib.display.Audio object>"
            ]
          },
          "execution_count": 90,
          "metadata": {},
          "output_type": "execute_result"
        }
      ],
      "source": [
        "def generate_text(pipe, text, num_return_sequences, max_length):\n",
        "    target_style_name = \"표준어\"\n",
        "    text = f\"{target_style_name} 말투로 변환:{text}\"\n",
        "    out = pipe(text, num_return_sequences=num_return_sequences, max_length=max_length)\n",
        "    #num_return_sequences의 값에 따라서 반환되는 텍스트의 개수가 바뀐다. 만약 3으로 지정했다면 길이가 3인 리스트에 담겨서 값이 반환될 것임!\n",
        "    return [x['generated_text'] for x in out]\n",
        "\n",
        "\n",
        "src_text = !python3 /content/drive/MyDrive/kospeech/bin/inference.py --model_path '/content/drive/MyDrive/kospeechdata/models/30000/model.pt' --audio_path '/content/drive/MyDrive/DKSR__data_share/Training/train_extracted/DKSR20002401/DKSR20002401_1_1_21.wav' --device \"cpu\"\n",
        "src_text = str(src_text)[2:-2]\n",
        "print(\"Ko-Speech 결과(음성인식) : \", src_text)\n",
        "\n",
        "target_text_ko = generate_text(nlg_pipeline,src_text,num_return_sequences=1,max_length=64)[0]\n",
        "print(f\"Translated Standard (표준어로 출력): {target_text_ko}\")\n",
        "\n",
        "\n",
        "mels, audios = do_synthesis(target_text_ko, fastspeech2, mb_melgan, \"FASTSPEECH2\", \"MB-MELGAN\")\n",
        "visualize_mel_spectrogram(mels[0])\n",
        "ipd.Audio(audios, rate=22050)"
      ]
    },
    {
      "cell_type": "markdown",
      "metadata": {
        "id": "lLl0K6IAmmHC"
      },
      "source": [
        "## Whisper ver"
      ]
    },
    {
      "cell_type": "code",
      "execution_count": null,
      "metadata": {
        "id": "-ncO2d1XmnsB"
      },
      "outputs": [],
      "source": [
        "# whisper 다운로드\n",
        "!pip install git+https://github.com/openai/whisper.git\n",
        "!sudo apt update && sudo apt install ffmpeg"
      ]
    },
    {
      "cell_type": "code",
      "execution_count": null,
      "metadata": {
        "id": "rvvpCOG-mqjY"
      },
      "outputs": [],
      "source": [
        "# 파이프라인 연결\n",
        "import re\n",
        "start_time  = time.time()\n",
        "\n",
        "def generate_text(pipe, text, num_return_sequences, max_length):\n",
        "    target_style_name = \"표준어\"\n",
        "    text = f\"{target_style_name} 말투로 변환:{text}\"\n",
        "    out = pipe(text, num_return_sequences=num_return_sequences, max_length=max_length)\n",
        "    return [x['generated_text'] for x in out]\n",
        "\n",
        "src_text = !whisper \"/content/drive/MyDrive/24w_deepdaiv/drama.wav\" --model medium --language Korean\n",
        "src_text = [re.sub(r'\\[.*?\\]\\s*', '', text) for text in src_text]\n",
        "src_text = rule(str(src_text))\n",
        "print(\"Ko-Speech Result (음성 인식) : \", src_text)\n",
        "\n",
        "target_text_ko = generate_text(nlg_pipeline,src_text,num_return_sequences=1,max_length=64)[0]\n",
        "print(f\"Translated Standard Result (표준어체로 출력): {target_text_ko}\")\n",
        "\n",
        "mels, audios = do_synthesis(target_text_ko, fastspeech2, mb_melgan, \"FASTSPEECH2\", \"MB-MELGAN\")\n",
        "print(\"최종 출력 표준어 발화 : \")\n",
        "visualize_mel_spectrogram(mels[0])\n",
        "output_wav = ipd.Audio(audios, rate=22050)\n",
        "output_wav"
      ]
    }
  ],
  "metadata": {
    "accelerator": "GPU",
    "colab": {
      "gpuType": "V100",
      "provenance": [],
      "include_colab_link": true
    },
    "kaggle": {
      "accelerator": "nvidiaTeslaT4",
      "dataSources": [
        {
          "datasetId": 4665607,
          "sourceId": 7936609,
          "sourceType": "datasetVersion"
        }
      ],
      "dockerImageVersionId": 30674,
      "isGpuEnabled": true,
      "isInternetEnabled": true,
      "language": "python",
      "sourceType": "notebook"
    },
    "kernelspec": {
      "display_name": "Python 3",
      "name": "python3"
    },
    "language_info": {
      "codemirror_mode": {
        "name": "ipython",
        "version": 3
      },
      "file_extension": ".py",
      "mimetype": "text/x-python",
      "name": "python",
      "nbconvert_exporter": "python",
      "pygments_lexer": "ipython3",
      "version": "3.10.13"
    },
    "widgets": {
      "application/vnd.jupyter.widget-state+json": {
        "03f900028fd24ea5a2df49e098e89752": {
          "model_module": "@jupyter-widgets/base",
          "model_module_version": "1.2.0",
          "model_name": "LayoutModel",
          "state": {
            "_model_module": "@jupyter-widgets/base",
            "_model_module_version": "1.2.0",
            "_model_name": "LayoutModel",
            "_view_count": null,
            "_view_module": "@jupyter-widgets/base",
            "_view_module_version": "1.2.0",
            "_view_name": "LayoutView",
            "align_content": null,
            "align_items": null,
            "align_self": null,
            "border": null,
            "bottom": null,
            "display": null,
            "flex": null,
            "flex_flow": null,
            "grid_area": null,
            "grid_auto_columns": null,
            "grid_auto_flow": null,
            "grid_auto_rows": null,
            "grid_column": null,
            "grid_gap": null,
            "grid_row": null,
            "grid_template_areas": null,
            "grid_template_columns": null,
            "grid_template_rows": null,
            "height": null,
            "justify_content": null,
            "justify_items": null,
            "left": null,
            "margin": null,
            "max_height": null,
            "max_width": null,
            "min_height": null,
            "min_width": null,
            "object_fit": null,
            "object_position": null,
            "order": null,
            "overflow": null,
            "overflow_x": null,
            "overflow_y": null,
            "padding": null,
            "right": null,
            "top": null,
            "visibility": null,
            "width": null
          }
        },
        "09323d50c7214ddb9d57c984a989510e": {
          "model_module": "@jupyter-widgets/controls",
          "model_module_version": "1.5.0",
          "model_name": "HBoxModel",
          "state": {
            "_dom_classes": [],
            "_model_module": "@jupyter-widgets/controls",
            "_model_module_version": "1.5.0",
            "_model_name": "HBoxModel",
            "_view_count": null,
            "_view_module": "@jupyter-widgets/controls",
            "_view_module_version": "1.5.0",
            "_view_name": "HBoxView",
            "box_style": "",
            "children": [
              "IPY_MODEL_57d6a63a2a884aa5a577718da1500258",
              "IPY_MODEL_5e327436eaf54a30ac7b69deddd654e8",
              "IPY_MODEL_7f2da2b9c25240a7974504d10bc0144e"
            ],
            "layout": "IPY_MODEL_ff2f1e2a8194426a8c866e0ecb4a2b6e"
          }
        },
        "0ff09628ce1a41049c1914547135e093": {
          "model_module": "@jupyter-widgets/controls",
          "model_module_version": "1.5.0",
          "model_name": "HTMLModel",
          "state": {
            "_dom_classes": [],
            "_model_module": "@jupyter-widgets/controls",
            "_model_module_version": "1.5.0",
            "_model_name": "HTMLModel",
            "_view_count": null,
            "_view_module": "@jupyter-widgets/controls",
            "_view_module_version": "1.5.0",
            "_view_name": "HTMLView",
            "description": "",
            "description_tooltip": null,
            "layout": "IPY_MODEL_9fe63afc035f4a33bef3616bce2c7e75",
            "placeholder": "​",
            "style": "IPY_MODEL_d1aa512e3cd743ae95afe43a834ffc01",
            "value": "special_tokens_map.json: 100%"
          }
        },
        "131771e2fc3648368e47ac965383855a": {
          "model_module": "@jupyter-widgets/controls",
          "model_module_version": "1.5.0",
          "model_name": "HTMLModel",
          "state": {
            "_dom_classes": [],
            "_model_module": "@jupyter-widgets/controls",
            "_model_module_version": "1.5.0",
            "_model_name": "HTMLModel",
            "_view_count": null,
            "_view_module": "@jupyter-widgets/controls",
            "_view_module_version": "1.5.0",
            "_view_name": "HTMLView",
            "description": "",
            "description_tooltip": null,
            "layout": "IPY_MODEL_d5225758716a461aa57c97597a32119e",
            "placeholder": "​",
            "style": "IPY_MODEL_f269cdc733c444689c6de1cfae313f03",
            "value": " 1.36k/1.36k [00:00&lt;00:00, 79.1kB/s]"
          }
        },
        "1f5beb929d864cdc812adfc3eb07228e": {
          "model_module": "@jupyter-widgets/controls",
          "model_module_version": "1.5.0",
          "model_name": "FloatProgressModel",
          "state": {
            "_dom_classes": [],
            "_model_module": "@jupyter-widgets/controls",
            "_model_module_version": "1.5.0",
            "_model_name": "FloatProgressModel",
            "_view_count": null,
            "_view_module": "@jupyter-widgets/controls",
            "_view_module_version": "1.5.0",
            "_view_name": "ProgressView",
            "bar_style": "success",
            "description": "",
            "description_tooltip": null,
            "layout": "IPY_MODEL_ad8ba2c776134257ba3f8b71540a31ce",
            "max": 4,
            "min": 0,
            "orientation": "horizontal",
            "style": "IPY_MODEL_3a5cf1731ad14d499743071230ff3a25",
            "value": 4
          }
        },
        "260907e734184c91bbc347bcb381c3af": {
          "model_module": "@jupyter-widgets/base",
          "model_module_version": "1.2.0",
          "model_name": "LayoutModel",
          "state": {
            "_model_module": "@jupyter-widgets/base",
            "_model_module_version": "1.2.0",
            "_model_name": "LayoutModel",
            "_view_count": null,
            "_view_module": "@jupyter-widgets/base",
            "_view_module_version": "1.2.0",
            "_view_name": "LayoutView",
            "align_content": null,
            "align_items": null,
            "align_self": null,
            "border": null,
            "bottom": null,
            "display": null,
            "flex": null,
            "flex_flow": null,
            "grid_area": null,
            "grid_auto_columns": null,
            "grid_auto_flow": null,
            "grid_auto_rows": null,
            "grid_column": null,
            "grid_gap": null,
            "grid_row": null,
            "grid_template_areas": null,
            "grid_template_columns": null,
            "grid_template_rows": null,
            "height": null,
            "justify_content": null,
            "justify_items": null,
            "left": null,
            "margin": null,
            "max_height": null,
            "max_width": null,
            "min_height": null,
            "min_width": null,
            "object_fit": null,
            "object_position": null,
            "order": null,
            "overflow": null,
            "overflow_x": null,
            "overflow_y": null,
            "padding": null,
            "right": null,
            "top": null,
            "visibility": null,
            "width": null
          }
        },
        "359c5eb62ae24ea19ed2fb775f6a2f31": {
          "model_module": "@jupyter-widgets/base",
          "model_module_version": "1.2.0",
          "model_name": "LayoutModel",
          "state": {
            "_model_module": "@jupyter-widgets/base",
            "_model_module_version": "1.2.0",
            "_model_name": "LayoutModel",
            "_view_count": null,
            "_view_module": "@jupyter-widgets/base",
            "_view_module_version": "1.2.0",
            "_view_name": "LayoutView",
            "align_content": null,
            "align_items": null,
            "align_self": null,
            "border": null,
            "bottom": null,
            "display": null,
            "flex": null,
            "flex_flow": null,
            "grid_area": null,
            "grid_auto_columns": null,
            "grid_auto_flow": null,
            "grid_auto_rows": null,
            "grid_column": null,
            "grid_gap": null,
            "grid_row": null,
            "grid_template_areas": null,
            "grid_template_columns": null,
            "grid_template_rows": null,
            "height": null,
            "justify_content": null,
            "justify_items": null,
            "left": null,
            "margin": null,
            "max_height": null,
            "max_width": null,
            "min_height": null,
            "min_width": null,
            "object_fit": null,
            "object_position": null,
            "order": null,
            "overflow": null,
            "overflow_x": null,
            "overflow_y": null,
            "padding": null,
            "right": null,
            "top": null,
            "visibility": null,
            "width": null
          }
        },
        "3a5cf1731ad14d499743071230ff3a25": {
          "model_module": "@jupyter-widgets/controls",
          "model_module_version": "1.5.0",
          "model_name": "ProgressStyleModel",
          "state": {
            "_model_module": "@jupyter-widgets/controls",
            "_model_module_version": "1.5.0",
            "_model_name": "ProgressStyleModel",
            "_view_count": null,
            "_view_module": "@jupyter-widgets/base",
            "_view_module_version": "1.2.0",
            "_view_name": "StyleView",
            "bar_color": null,
            "description_width": ""
          }
        },
        "3bfef3f6fc0349ca9c8633ec5945b149": {
          "model_module": "@jupyter-widgets/controls",
          "model_module_version": "1.5.0",
          "model_name": "ProgressStyleModel",
          "state": {
            "_model_module": "@jupyter-widgets/controls",
            "_model_module_version": "1.5.0",
            "_model_name": "ProgressStyleModel",
            "_view_count": null,
            "_view_module": "@jupyter-widgets/base",
            "_view_module_version": "1.2.0",
            "_view_name": "StyleView",
            "bar_color": null,
            "description_width": ""
          }
        },
        "4a062acff0174ddab28d2d248970b5ce": {
          "model_module": "@jupyter-widgets/controls",
          "model_module_version": "1.5.0",
          "model_name": "DescriptionStyleModel",
          "state": {
            "_model_module": "@jupyter-widgets/controls",
            "_model_module_version": "1.5.0",
            "_model_name": "DescriptionStyleModel",
            "_view_count": null,
            "_view_module": "@jupyter-widgets/base",
            "_view_module_version": "1.2.0",
            "_view_name": "StyleView",
            "description_width": ""
          }
        },
        "51ddbf1a6e6443a89029478bc944d3c4": {
          "model_module": "@jupyter-widgets/controls",
          "model_module_version": "1.5.0",
          "model_name": "ProgressStyleModel",
          "state": {
            "_model_module": "@jupyter-widgets/controls",
            "_model_module_version": "1.5.0",
            "_model_name": "ProgressStyleModel",
            "_view_count": null,
            "_view_module": "@jupyter-widgets/base",
            "_view_module_version": "1.2.0",
            "_view_name": "StyleView",
            "bar_color": null,
            "description_width": ""
          }
        },
        "52ffea01edb340aca07381d8b016830e": {
          "model_module": "@jupyter-widgets/controls",
          "model_module_version": "1.5.0",
          "model_name": "ProgressStyleModel",
          "state": {
            "_model_module": "@jupyter-widgets/controls",
            "_model_module_version": "1.5.0",
            "_model_name": "ProgressStyleModel",
            "_view_count": null,
            "_view_module": "@jupyter-widgets/base",
            "_view_module_version": "1.2.0",
            "_view_name": "StyleView",
            "bar_color": null,
            "description_width": ""
          }
        },
        "57d6a63a2a884aa5a577718da1500258": {
          "model_module": "@jupyter-widgets/controls",
          "model_module_version": "1.5.0",
          "model_name": "HTMLModel",
          "state": {
            "_dom_classes": [],
            "_model_module": "@jupyter-widgets/controls",
            "_model_module_version": "1.5.0",
            "_model_name": "HTMLModel",
            "_view_count": null,
            "_view_module": "@jupyter-widgets/controls",
            "_view_module_version": "1.5.0",
            "_view_name": "HTMLView",
            "description": "",
            "description_tooltip": null,
            "layout": "IPY_MODEL_d87c0820fc914762aa5b9d72639a49a1",
            "placeholder": "​",
            "style": "IPY_MODEL_74d1d7897099412e931d2204ca85ff8f",
            "value": "tokenizer.json: 100%"
          }
        },
        "5e327436eaf54a30ac7b69deddd654e8": {
          "model_module": "@jupyter-widgets/controls",
          "model_module_version": "1.5.0",
          "model_name": "FloatProgressModel",
          "state": {
            "_dom_classes": [],
            "_model_module": "@jupyter-widgets/controls",
            "_model_module_version": "1.5.0",
            "_model_name": "FloatProgressModel",
            "_view_count": null,
            "_view_module": "@jupyter-widgets/controls",
            "_view_module_version": "1.5.0",
            "_view_name": "ProgressView",
            "bar_style": "success",
            "description": "",
            "description_tooltip": null,
            "layout": "IPY_MODEL_705b9e17349446da8912f9b1a1cfd3c6",
            "max": 682152,
            "min": 0,
            "orientation": "horizontal",
            "style": "IPY_MODEL_52ffea01edb340aca07381d8b016830e",
            "value": 682152
          }
        },
        "63b2bd66f9b448eeabbd072a55dcc24e": {
          "model_module": "@jupyter-widgets/controls",
          "model_module_version": "1.5.0",
          "model_name": "HTMLModel",
          "state": {
            "_dom_classes": [],
            "_model_module": "@jupyter-widgets/controls",
            "_model_module_version": "1.5.0",
            "_model_name": "HTMLModel",
            "_view_count": null,
            "_view_module": "@jupyter-widgets/controls",
            "_view_module_version": "1.5.0",
            "_view_name": "HTMLView",
            "description": "",
            "description_tooltip": null,
            "layout": "IPY_MODEL_a0ee7cc9e3cd4f9393725686ae41ae21",
            "placeholder": "​",
            "style": "IPY_MODEL_4a062acff0174ddab28d2d248970b5ce",
            "value": " 4.00/4.00 [00:00&lt;00:00, 281B/s]"
          }
        },
        "644766a37f0e402eb148df882ffe455b": {
          "model_module": "@jupyter-widgets/controls",
          "model_module_version": "1.5.0",
          "model_name": "DescriptionStyleModel",
          "state": {
            "_model_module": "@jupyter-widgets/controls",
            "_model_module_version": "1.5.0",
            "_model_name": "DescriptionStyleModel",
            "_view_count": null,
            "_view_module": "@jupyter-widgets/base",
            "_view_module_version": "1.2.0",
            "_view_name": "StyleView",
            "description_width": ""
          }
        },
        "67076cf3fbd04b3b9f3dfb89f5bda783": {
          "model_module": "@jupyter-widgets/controls",
          "model_module_version": "1.5.0",
          "model_name": "DescriptionStyleModel",
          "state": {
            "_model_module": "@jupyter-widgets/controls",
            "_model_module_version": "1.5.0",
            "_model_name": "DescriptionStyleModel",
            "_view_count": null,
            "_view_module": "@jupyter-widgets/base",
            "_view_module_version": "1.2.0",
            "_view_name": "StyleView",
            "description_width": ""
          }
        },
        "6c3f7353566942df88f789eb5ca8b3d0": {
          "model_module": "@jupyter-widgets/controls",
          "model_module_version": "1.5.0",
          "model_name": "HBoxModel",
          "state": {
            "_dom_classes": [],
            "_model_module": "@jupyter-widgets/controls",
            "_model_module_version": "1.5.0",
            "_model_name": "HBoxModel",
            "_view_count": null,
            "_view_module": "@jupyter-widgets/controls",
            "_view_module_version": "1.5.0",
            "_view_name": "HBoxView",
            "box_style": "",
            "children": [
              "IPY_MODEL_da2d78fc9bc84c8ab7f039260e49e1bd",
              "IPY_MODEL_1f5beb929d864cdc812adfc3eb07228e",
              "IPY_MODEL_63b2bd66f9b448eeabbd072a55dcc24e"
            ],
            "layout": "IPY_MODEL_f741b59d3e5e43c5ad18d133488e6dc4"
          }
        },
        "705b9e17349446da8912f9b1a1cfd3c6": {
          "model_module": "@jupyter-widgets/base",
          "model_module_version": "1.2.0",
          "model_name": "LayoutModel",
          "state": {
            "_model_module": "@jupyter-widgets/base",
            "_model_module_version": "1.2.0",
            "_model_name": "LayoutModel",
            "_view_count": null,
            "_view_module": "@jupyter-widgets/base",
            "_view_module_version": "1.2.0",
            "_view_name": "LayoutView",
            "align_content": null,
            "align_items": null,
            "align_self": null,
            "border": null,
            "bottom": null,
            "display": null,
            "flex": null,
            "flex_flow": null,
            "grid_area": null,
            "grid_auto_columns": null,
            "grid_auto_flow": null,
            "grid_auto_rows": null,
            "grid_column": null,
            "grid_gap": null,
            "grid_row": null,
            "grid_template_areas": null,
            "grid_template_columns": null,
            "grid_template_rows": null,
            "height": null,
            "justify_content": null,
            "justify_items": null,
            "left": null,
            "margin": null,
            "max_height": null,
            "max_width": null,
            "min_height": null,
            "min_width": null,
            "object_fit": null,
            "object_position": null,
            "order": null,
            "overflow": null,
            "overflow_x": null,
            "overflow_y": null,
            "padding": null,
            "right": null,
            "top": null,
            "visibility": null,
            "width": null
          }
        },
        "74d1d7897099412e931d2204ca85ff8f": {
          "model_module": "@jupyter-widgets/controls",
          "model_module_version": "1.5.0",
          "model_name": "DescriptionStyleModel",
          "state": {
            "_model_module": "@jupyter-widgets/controls",
            "_model_module_version": "1.5.0",
            "_model_name": "DescriptionStyleModel",
            "_view_count": null,
            "_view_module": "@jupyter-widgets/base",
            "_view_module_version": "1.2.0",
            "_view_name": "StyleView",
            "description_width": ""
          }
        },
        "7c60633c2c514f4399286e18abaf6809": {
          "model_module": "@jupyter-widgets/base",
          "model_module_version": "1.2.0",
          "model_name": "LayoutModel",
          "state": {
            "_model_module": "@jupyter-widgets/base",
            "_model_module_version": "1.2.0",
            "_model_name": "LayoutModel",
            "_view_count": null,
            "_view_module": "@jupyter-widgets/base",
            "_view_module_version": "1.2.0",
            "_view_name": "LayoutView",
            "align_content": null,
            "align_items": null,
            "align_self": null,
            "border": null,
            "bottom": null,
            "display": null,
            "flex": null,
            "flex_flow": null,
            "grid_area": null,
            "grid_auto_columns": null,
            "grid_auto_flow": null,
            "grid_auto_rows": null,
            "grid_column": null,
            "grid_gap": null,
            "grid_row": null,
            "grid_template_areas": null,
            "grid_template_columns": null,
            "grid_template_rows": null,
            "height": null,
            "justify_content": null,
            "justify_items": null,
            "left": null,
            "margin": null,
            "max_height": null,
            "max_width": null,
            "min_height": null,
            "min_width": null,
            "object_fit": null,
            "object_position": null,
            "order": null,
            "overflow": null,
            "overflow_x": null,
            "overflow_y": null,
            "padding": null,
            "right": null,
            "top": null,
            "visibility": null,
            "width": null
          }
        },
        "7f2da2b9c25240a7974504d10bc0144e": {
          "model_module": "@jupyter-widgets/controls",
          "model_module_version": "1.5.0",
          "model_name": "HTMLModel",
          "state": {
            "_dom_classes": [],
            "_model_module": "@jupyter-widgets/controls",
            "_model_module_version": "1.5.0",
            "_model_name": "HTMLModel",
            "_view_count": null,
            "_view_module": "@jupyter-widgets/controls",
            "_view_module_version": "1.5.0",
            "_view_name": "HTMLView",
            "description": "",
            "description_tooltip": null,
            "layout": "IPY_MODEL_b28ad146494243cab47a390a081e9cff",
            "placeholder": "​",
            "style": "IPY_MODEL_d8664b8b2639464d8a03228d1335e626",
            "value": " 682k/682k [00:00&lt;00:00, 2.70MB/s]"
          }
        },
        "958865bf83b148cf9cce8b0bd8455d1e": {
          "model_module": "@jupyter-widgets/controls",
          "model_module_version": "1.5.0",
          "model_name": "FloatProgressModel",
          "state": {
            "_dom_classes": [],
            "_model_module": "@jupyter-widgets/controls",
            "_model_module_version": "1.5.0",
            "_model_name": "FloatProgressModel",
            "_view_count": null,
            "_view_module": "@jupyter-widgets/controls",
            "_view_module_version": "1.5.0",
            "_view_name": "ProgressView",
            "bar_style": "success",
            "description": "",
            "description_tooltip": null,
            "layout": "IPY_MODEL_260907e734184c91bbc347bcb381c3af",
            "max": 1361,
            "min": 0,
            "orientation": "horizontal",
            "style": "IPY_MODEL_3bfef3f6fc0349ca9c8633ec5945b149",
            "value": 1361
          }
        },
        "9fe63afc035f4a33bef3616bce2c7e75": {
          "model_module": "@jupyter-widgets/base",
          "model_module_version": "1.2.0",
          "model_name": "LayoutModel",
          "state": {
            "_model_module": "@jupyter-widgets/base",
            "_model_module_version": "1.2.0",
            "_model_name": "LayoutModel",
            "_view_count": null,
            "_view_module": "@jupyter-widgets/base",
            "_view_module_version": "1.2.0",
            "_view_name": "LayoutView",
            "align_content": null,
            "align_items": null,
            "align_self": null,
            "border": null,
            "bottom": null,
            "display": null,
            "flex": null,
            "flex_flow": null,
            "grid_area": null,
            "grid_auto_columns": null,
            "grid_auto_flow": null,
            "grid_auto_rows": null,
            "grid_column": null,
            "grid_gap": null,
            "grid_row": null,
            "grid_template_areas": null,
            "grid_template_columns": null,
            "grid_template_rows": null,
            "height": null,
            "justify_content": null,
            "justify_items": null,
            "left": null,
            "margin": null,
            "max_height": null,
            "max_width": null,
            "min_height": null,
            "min_width": null,
            "object_fit": null,
            "object_position": null,
            "order": null,
            "overflow": null,
            "overflow_x": null,
            "overflow_y": null,
            "padding": null,
            "right": null,
            "top": null,
            "visibility": null,
            "width": null
          }
        },
        "a08fe9c2317b41b6988208b04e010aeb": {
          "model_module": "@jupyter-widgets/controls",
          "model_module_version": "1.5.0",
          "model_name": "HTMLModel",
          "state": {
            "_dom_classes": [],
            "_model_module": "@jupyter-widgets/controls",
            "_model_module_version": "1.5.0",
            "_model_name": "HTMLModel",
            "_view_count": null,
            "_view_module": "@jupyter-widgets/controls",
            "_view_module_version": "1.5.0",
            "_view_name": "HTMLView",
            "description": "",
            "description_tooltip": null,
            "layout": "IPY_MODEL_aa022d8e76a54166b11964f1df241793",
            "placeholder": "​",
            "style": "IPY_MODEL_67076cf3fbd04b3b9f3dfb89f5bda783",
            "value": " 112/112 [00:00&lt;00:00, 7.40kB/s]"
          }
        },
        "a0ee7cc9e3cd4f9393725686ae41ae21": {
          "model_module": "@jupyter-widgets/base",
          "model_module_version": "1.2.0",
          "model_name": "LayoutModel",
          "state": {
            "_model_module": "@jupyter-widgets/base",
            "_model_module_version": "1.2.0",
            "_model_name": "LayoutModel",
            "_view_count": null,
            "_view_module": "@jupyter-widgets/base",
            "_view_module_version": "1.2.0",
            "_view_name": "LayoutView",
            "align_content": null,
            "align_items": null,
            "align_self": null,
            "border": null,
            "bottom": null,
            "display": null,
            "flex": null,
            "flex_flow": null,
            "grid_area": null,
            "grid_auto_columns": null,
            "grid_auto_flow": null,
            "grid_auto_rows": null,
            "grid_column": null,
            "grid_gap": null,
            "grid_row": null,
            "grid_template_areas": null,
            "grid_template_columns": null,
            "grid_template_rows": null,
            "height": null,
            "justify_content": null,
            "justify_items": null,
            "left": null,
            "margin": null,
            "max_height": null,
            "max_width": null,
            "min_height": null,
            "min_width": null,
            "object_fit": null,
            "object_position": null,
            "order": null,
            "overflow": null,
            "overflow_x": null,
            "overflow_y": null,
            "padding": null,
            "right": null,
            "top": null,
            "visibility": null,
            "width": null
          }
        },
        "aa022d8e76a54166b11964f1df241793": {
          "model_module": "@jupyter-widgets/base",
          "model_module_version": "1.2.0",
          "model_name": "LayoutModel",
          "state": {
            "_model_module": "@jupyter-widgets/base",
            "_model_module_version": "1.2.0",
            "_model_name": "LayoutModel",
            "_view_count": null,
            "_view_module": "@jupyter-widgets/base",
            "_view_module_version": "1.2.0",
            "_view_name": "LayoutView",
            "align_content": null,
            "align_items": null,
            "align_self": null,
            "border": null,
            "bottom": null,
            "display": null,
            "flex": null,
            "flex_flow": null,
            "grid_area": null,
            "grid_auto_columns": null,
            "grid_auto_flow": null,
            "grid_auto_rows": null,
            "grid_column": null,
            "grid_gap": null,
            "grid_row": null,
            "grid_template_areas": null,
            "grid_template_columns": null,
            "grid_template_rows": null,
            "height": null,
            "justify_content": null,
            "justify_items": null,
            "left": null,
            "margin": null,
            "max_height": null,
            "max_width": null,
            "min_height": null,
            "min_width": null,
            "object_fit": null,
            "object_position": null,
            "order": null,
            "overflow": null,
            "overflow_x": null,
            "overflow_y": null,
            "padding": null,
            "right": null,
            "top": null,
            "visibility": null,
            "width": null
          }
        },
        "ab1926eeb72e49f5bd8b910d7b723ca0": {
          "model_module": "@jupyter-widgets/base",
          "model_module_version": "1.2.0",
          "model_name": "LayoutModel",
          "state": {
            "_model_module": "@jupyter-widgets/base",
            "_model_module_version": "1.2.0",
            "_model_name": "LayoutModel",
            "_view_count": null,
            "_view_module": "@jupyter-widgets/base",
            "_view_module_version": "1.2.0",
            "_view_name": "LayoutView",
            "align_content": null,
            "align_items": null,
            "align_self": null,
            "border": null,
            "bottom": null,
            "display": null,
            "flex": null,
            "flex_flow": null,
            "grid_area": null,
            "grid_auto_columns": null,
            "grid_auto_flow": null,
            "grid_auto_rows": null,
            "grid_column": null,
            "grid_gap": null,
            "grid_row": null,
            "grid_template_areas": null,
            "grid_template_columns": null,
            "grid_template_rows": null,
            "height": null,
            "justify_content": null,
            "justify_items": null,
            "left": null,
            "margin": null,
            "max_height": null,
            "max_width": null,
            "min_height": null,
            "min_width": null,
            "object_fit": null,
            "object_position": null,
            "order": null,
            "overflow": null,
            "overflow_x": null,
            "overflow_y": null,
            "padding": null,
            "right": null,
            "top": null,
            "visibility": null,
            "width": null
          }
        },
        "ad8ba2c776134257ba3f8b71540a31ce": {
          "model_module": "@jupyter-widgets/base",
          "model_module_version": "1.2.0",
          "model_name": "LayoutModel",
          "state": {
            "_model_module": "@jupyter-widgets/base",
            "_model_module_version": "1.2.0",
            "_model_name": "LayoutModel",
            "_view_count": null,
            "_view_module": "@jupyter-widgets/base",
            "_view_module_version": "1.2.0",
            "_view_name": "LayoutView",
            "align_content": null,
            "align_items": null,
            "align_self": null,
            "border": null,
            "bottom": null,
            "display": null,
            "flex": null,
            "flex_flow": null,
            "grid_area": null,
            "grid_auto_columns": null,
            "grid_auto_flow": null,
            "grid_auto_rows": null,
            "grid_column": null,
            "grid_gap": null,
            "grid_row": null,
            "grid_template_areas": null,
            "grid_template_columns": null,
            "grid_template_rows": null,
            "height": null,
            "justify_content": null,
            "justify_items": null,
            "left": null,
            "margin": null,
            "max_height": null,
            "max_width": null,
            "min_height": null,
            "min_width": null,
            "object_fit": null,
            "object_position": null,
            "order": null,
            "overflow": null,
            "overflow_x": null,
            "overflow_y": null,
            "padding": null,
            "right": null,
            "top": null,
            "visibility": null,
            "width": null
          }
        },
        "b28ad146494243cab47a390a081e9cff": {
          "model_module": "@jupyter-widgets/base",
          "model_module_version": "1.2.0",
          "model_name": "LayoutModel",
          "state": {
            "_model_module": "@jupyter-widgets/base",
            "_model_module_version": "1.2.0",
            "_model_name": "LayoutModel",
            "_view_count": null,
            "_view_module": "@jupyter-widgets/base",
            "_view_module_version": "1.2.0",
            "_view_name": "LayoutView",
            "align_content": null,
            "align_items": null,
            "align_self": null,
            "border": null,
            "bottom": null,
            "display": null,
            "flex": null,
            "flex_flow": null,
            "grid_area": null,
            "grid_auto_columns": null,
            "grid_auto_flow": null,
            "grid_auto_rows": null,
            "grid_column": null,
            "grid_gap": null,
            "grid_row": null,
            "grid_template_areas": null,
            "grid_template_columns": null,
            "grid_template_rows": null,
            "height": null,
            "justify_content": null,
            "justify_items": null,
            "left": null,
            "margin": null,
            "max_height": null,
            "max_width": null,
            "min_height": null,
            "min_width": null,
            "object_fit": null,
            "object_position": null,
            "order": null,
            "overflow": null,
            "overflow_x": null,
            "overflow_y": null,
            "padding": null,
            "right": null,
            "top": null,
            "visibility": null,
            "width": null
          }
        },
        "c04923995c9c464b8a63847bec0e671b": {
          "model_module": "@jupyter-widgets/controls",
          "model_module_version": "1.5.0",
          "model_name": "HBoxModel",
          "state": {
            "_dom_classes": [],
            "_model_module": "@jupyter-widgets/controls",
            "_model_module_version": "1.5.0",
            "_model_name": "HBoxModel",
            "_view_count": null,
            "_view_module": "@jupyter-widgets/controls",
            "_view_module_version": "1.5.0",
            "_view_name": "HBoxView",
            "box_style": "",
            "children": [
              "IPY_MODEL_0ff09628ce1a41049c1914547135e093",
              "IPY_MODEL_e9089deb0ab349528ea9ca8115ad05ee",
              "IPY_MODEL_a08fe9c2317b41b6988208b04e010aeb"
            ],
            "layout": "IPY_MODEL_359c5eb62ae24ea19ed2fb775f6a2f31"
          }
        },
        "d1aa512e3cd743ae95afe43a834ffc01": {
          "model_module": "@jupyter-widgets/controls",
          "model_module_version": "1.5.0",
          "model_name": "DescriptionStyleModel",
          "state": {
            "_model_module": "@jupyter-widgets/controls",
            "_model_module_version": "1.5.0",
            "_model_name": "DescriptionStyleModel",
            "_view_count": null,
            "_view_module": "@jupyter-widgets/base",
            "_view_module_version": "1.2.0",
            "_view_name": "StyleView",
            "description_width": ""
          }
        },
        "d5225758716a461aa57c97597a32119e": {
          "model_module": "@jupyter-widgets/base",
          "model_module_version": "1.2.0",
          "model_name": "LayoutModel",
          "state": {
            "_model_module": "@jupyter-widgets/base",
            "_model_module_version": "1.2.0",
            "_model_name": "LayoutModel",
            "_view_count": null,
            "_view_module": "@jupyter-widgets/base",
            "_view_module_version": "1.2.0",
            "_view_name": "LayoutView",
            "align_content": null,
            "align_items": null,
            "align_self": null,
            "border": null,
            "bottom": null,
            "display": null,
            "flex": null,
            "flex_flow": null,
            "grid_area": null,
            "grid_auto_columns": null,
            "grid_auto_flow": null,
            "grid_auto_rows": null,
            "grid_column": null,
            "grid_gap": null,
            "grid_row": null,
            "grid_template_areas": null,
            "grid_template_columns": null,
            "grid_template_rows": null,
            "height": null,
            "justify_content": null,
            "justify_items": null,
            "left": null,
            "margin": null,
            "max_height": null,
            "max_width": null,
            "min_height": null,
            "min_width": null,
            "object_fit": null,
            "object_position": null,
            "order": null,
            "overflow": null,
            "overflow_x": null,
            "overflow_y": null,
            "padding": null,
            "right": null,
            "top": null,
            "visibility": null,
            "width": null
          }
        },
        "d8664b8b2639464d8a03228d1335e626": {
          "model_module": "@jupyter-widgets/controls",
          "model_module_version": "1.5.0",
          "model_name": "DescriptionStyleModel",
          "state": {
            "_model_module": "@jupyter-widgets/controls",
            "_model_module_version": "1.5.0",
            "_model_name": "DescriptionStyleModel",
            "_view_count": null,
            "_view_module": "@jupyter-widgets/base",
            "_view_module_version": "1.2.0",
            "_view_name": "StyleView",
            "description_width": ""
          }
        },
        "d87c0820fc914762aa5b9d72639a49a1": {
          "model_module": "@jupyter-widgets/base",
          "model_module_version": "1.2.0",
          "model_name": "LayoutModel",
          "state": {
            "_model_module": "@jupyter-widgets/base",
            "_model_module_version": "1.2.0",
            "_model_name": "LayoutModel",
            "_view_count": null,
            "_view_module": "@jupyter-widgets/base",
            "_view_module_version": "1.2.0",
            "_view_name": "LayoutView",
            "align_content": null,
            "align_items": null,
            "align_self": null,
            "border": null,
            "bottom": null,
            "display": null,
            "flex": null,
            "flex_flow": null,
            "grid_area": null,
            "grid_auto_columns": null,
            "grid_auto_flow": null,
            "grid_auto_rows": null,
            "grid_column": null,
            "grid_gap": null,
            "grid_row": null,
            "grid_template_areas": null,
            "grid_template_columns": null,
            "grid_template_rows": null,
            "height": null,
            "justify_content": null,
            "justify_items": null,
            "left": null,
            "margin": null,
            "max_height": null,
            "max_width": null,
            "min_height": null,
            "min_width": null,
            "object_fit": null,
            "object_position": null,
            "order": null,
            "overflow": null,
            "overflow_x": null,
            "overflow_y": null,
            "padding": null,
            "right": null,
            "top": null,
            "visibility": null,
            "width": null
          }
        },
        "da2d78fc9bc84c8ab7f039260e49e1bd": {
          "model_module": "@jupyter-widgets/controls",
          "model_module_version": "1.5.0",
          "model_name": "HTMLModel",
          "state": {
            "_dom_classes": [],
            "_model_module": "@jupyter-widgets/controls",
            "_model_module_version": "1.5.0",
            "_model_name": "HTMLModel",
            "_view_count": null,
            "_view_module": "@jupyter-widgets/controls",
            "_view_module_version": "1.5.0",
            "_view_name": "HTMLView",
            "description": "",
            "description_tooltip": null,
            "layout": "IPY_MODEL_fbefaf0136a843959d2e62ab68a6bdd4",
            "placeholder": "​",
            "style": "IPY_MODEL_f4e5e00bc7c543ca91165aef4d74096a",
            "value": "added_tokens.json: 100%"
          }
        },
        "e9089deb0ab349528ea9ca8115ad05ee": {
          "model_module": "@jupyter-widgets/controls",
          "model_module_version": "1.5.0",
          "model_name": "FloatProgressModel",
          "state": {
            "_dom_classes": [],
            "_model_module": "@jupyter-widgets/controls",
            "_model_module_version": "1.5.0",
            "_model_name": "FloatProgressModel",
            "_view_count": null,
            "_view_module": "@jupyter-widgets/controls",
            "_view_module_version": "1.5.0",
            "_view_name": "ProgressView",
            "bar_style": "success",
            "description": "",
            "description_tooltip": null,
            "layout": "IPY_MODEL_03f900028fd24ea5a2df49e098e89752",
            "max": 112,
            "min": 0,
            "orientation": "horizontal",
            "style": "IPY_MODEL_51ddbf1a6e6443a89029478bc944d3c4",
            "value": 112
          }
        },
        "f269cdc733c444689c6de1cfae313f03": {
          "model_module": "@jupyter-widgets/controls",
          "model_module_version": "1.5.0",
          "model_name": "DescriptionStyleModel",
          "state": {
            "_model_module": "@jupyter-widgets/controls",
            "_model_module_version": "1.5.0",
            "_model_name": "DescriptionStyleModel",
            "_view_count": null,
            "_view_module": "@jupyter-widgets/base",
            "_view_module_version": "1.2.0",
            "_view_name": "StyleView",
            "description_width": ""
          }
        },
        "f4e5e00bc7c543ca91165aef4d74096a": {
          "model_module": "@jupyter-widgets/controls",
          "model_module_version": "1.5.0",
          "model_name": "DescriptionStyleModel",
          "state": {
            "_model_module": "@jupyter-widgets/controls",
            "_model_module_version": "1.5.0",
            "_model_name": "DescriptionStyleModel",
            "_view_count": null,
            "_view_module": "@jupyter-widgets/base",
            "_view_module_version": "1.2.0",
            "_view_name": "StyleView",
            "description_width": ""
          }
        },
        "f741b59d3e5e43c5ad18d133488e6dc4": {
          "model_module": "@jupyter-widgets/base",
          "model_module_version": "1.2.0",
          "model_name": "LayoutModel",
          "state": {
            "_model_module": "@jupyter-widgets/base",
            "_model_module_version": "1.2.0",
            "_model_name": "LayoutModel",
            "_view_count": null,
            "_view_module": "@jupyter-widgets/base",
            "_view_module_version": "1.2.0",
            "_view_name": "LayoutView",
            "align_content": null,
            "align_items": null,
            "align_self": null,
            "border": null,
            "bottom": null,
            "display": null,
            "flex": null,
            "flex_flow": null,
            "grid_area": null,
            "grid_auto_columns": null,
            "grid_auto_flow": null,
            "grid_auto_rows": null,
            "grid_column": null,
            "grid_gap": null,
            "grid_row": null,
            "grid_template_areas": null,
            "grid_template_columns": null,
            "grid_template_rows": null,
            "height": null,
            "justify_content": null,
            "justify_items": null,
            "left": null,
            "margin": null,
            "max_height": null,
            "max_width": null,
            "min_height": null,
            "min_width": null,
            "object_fit": null,
            "object_position": null,
            "order": null,
            "overflow": null,
            "overflow_x": null,
            "overflow_y": null,
            "padding": null,
            "right": null,
            "top": null,
            "visibility": null,
            "width": null
          }
        },
        "fb1f1673791c419baef117c6cd78ab1b": {
          "model_module": "@jupyter-widgets/controls",
          "model_module_version": "1.5.0",
          "model_name": "HTMLModel",
          "state": {
            "_dom_classes": [],
            "_model_module": "@jupyter-widgets/controls",
            "_model_module_version": "1.5.0",
            "_model_name": "HTMLModel",
            "_view_count": null,
            "_view_module": "@jupyter-widgets/controls",
            "_view_module_version": "1.5.0",
            "_view_name": "HTMLView",
            "description": "",
            "description_tooltip": null,
            "layout": "IPY_MODEL_7c60633c2c514f4399286e18abaf6809",
            "placeholder": "​",
            "style": "IPY_MODEL_644766a37f0e402eb148df882ffe455b",
            "value": "config.json: 100%"
          }
        },
        "fbefaf0136a843959d2e62ab68a6bdd4": {
          "model_module": "@jupyter-widgets/base",
          "model_module_version": "1.2.0",
          "model_name": "LayoutModel",
          "state": {
            "_model_module": "@jupyter-widgets/base",
            "_model_module_version": "1.2.0",
            "_model_name": "LayoutModel",
            "_view_count": null,
            "_view_module": "@jupyter-widgets/base",
            "_view_module_version": "1.2.0",
            "_view_name": "LayoutView",
            "align_content": null,
            "align_items": null,
            "align_self": null,
            "border": null,
            "bottom": null,
            "display": null,
            "flex": null,
            "flex_flow": null,
            "grid_area": null,
            "grid_auto_columns": null,
            "grid_auto_flow": null,
            "grid_auto_rows": null,
            "grid_column": null,
            "grid_gap": null,
            "grid_row": null,
            "grid_template_areas": null,
            "grid_template_columns": null,
            "grid_template_rows": null,
            "height": null,
            "justify_content": null,
            "justify_items": null,
            "left": null,
            "margin": null,
            "max_height": null,
            "max_width": null,
            "min_height": null,
            "min_width": null,
            "object_fit": null,
            "object_position": null,
            "order": null,
            "overflow": null,
            "overflow_x": null,
            "overflow_y": null,
            "padding": null,
            "right": null,
            "top": null,
            "visibility": null,
            "width": null
          }
        },
        "fc84f725ccaf47159b753f920297ed78": {
          "model_module": "@jupyter-widgets/controls",
          "model_module_version": "1.5.0",
          "model_name": "HBoxModel",
          "state": {
            "_dom_classes": [],
            "_model_module": "@jupyter-widgets/controls",
            "_model_module_version": "1.5.0",
            "_model_name": "HBoxModel",
            "_view_count": null,
            "_view_module": "@jupyter-widgets/controls",
            "_view_module_version": "1.5.0",
            "_view_name": "HBoxView",
            "box_style": "",
            "children": [
              "IPY_MODEL_fb1f1673791c419baef117c6cd78ab1b",
              "IPY_MODEL_958865bf83b148cf9cce8b0bd8455d1e",
              "IPY_MODEL_131771e2fc3648368e47ac965383855a"
            ],
            "layout": "IPY_MODEL_ab1926eeb72e49f5bd8b910d7b723ca0"
          }
        },
        "ff2f1e2a8194426a8c866e0ecb4a2b6e": {
          "model_module": "@jupyter-widgets/base",
          "model_module_version": "1.2.0",
          "model_name": "LayoutModel",
          "state": {
            "_model_module": "@jupyter-widgets/base",
            "_model_module_version": "1.2.0",
            "_model_name": "LayoutModel",
            "_view_count": null,
            "_view_module": "@jupyter-widgets/base",
            "_view_module_version": "1.2.0",
            "_view_name": "LayoutView",
            "align_content": null,
            "align_items": null,
            "align_self": null,
            "border": null,
            "bottom": null,
            "display": null,
            "flex": null,
            "flex_flow": null,
            "grid_area": null,
            "grid_auto_columns": null,
            "grid_auto_flow": null,
            "grid_auto_rows": null,
            "grid_column": null,
            "grid_gap": null,
            "grid_row": null,
            "grid_template_areas": null,
            "grid_template_columns": null,
            "grid_template_rows": null,
            "height": null,
            "justify_content": null,
            "justify_items": null,
            "left": null,
            "margin": null,
            "max_height": null,
            "max_width": null,
            "min_height": null,
            "min_width": null,
            "object_fit": null,
            "object_position": null,
            "order": null,
            "overflow": null,
            "overflow_x": null,
            "overflow_y": null,
            "padding": null,
            "right": null,
            "top": null,
            "visibility": null,
            "width": null
          }
        }
      }
    }
  },
  "nbformat": 4,
  "nbformat_minor": 0
}